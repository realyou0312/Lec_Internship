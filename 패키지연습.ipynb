{
  "nbformat": 4,
  "nbformat_minor": 0,
  "metadata": {
    "colab": {
      "name": "패키지연습.ipynb",
      "provenance": [],
      "collapsed_sections": [],
      "mount_file_id": "1TJgTQdBHEyAyuNfdKcGaZ7GXy74zfGWK",
      "authorship_tag": "ABX9TyNeU8lHJyBVJ8Cc8YyYmCwi",
      "include_colab_link": true
    },
    "kernelspec": {
      "name": "python3",
      "display_name": "Python 3"
    },
    "language_info": {
      "name": "python"
    }
  },
  "cells": [
    {
      "cell_type": "markdown",
      "metadata": {
        "id": "view-in-github",
        "colab_type": "text"
      },
      "source": [
        "<a href=\"https://colab.research.google.com/github/realyou0312/Lec_Internship/blob/main/%ED%8C%A8%ED%82%A4%EC%A7%80%EC%97%B0%EC%8A%B5.ipynb\" target=\"_parent\"><img src=\"https://colab.research.google.com/assets/colab-badge.svg\" alt=\"Open In Colab\"/></a>"
      ]
    },
    {
      "cell_type": "code",
      "metadata": {
        "colab": {
          "base_uri": "https://localhost:8080/"
        },
        "id": "iLveg3_wLTOR",
        "outputId": "695cde00-cf13-4574-8ed1-1c8c614bd7de"
      },
      "source": [
        "import rpy2\n",
        "%load_ext rpy2.ipython"
      ],
      "execution_count": null,
      "outputs": [
        {
          "output_type": "stream",
          "text": [
            "The rpy2.ipython extension is already loaded. To reload it, use:\n",
            "  %reload_ext rpy2.ipython\n"
          ],
          "name": "stdout"
        }
      ]
    },
    {
      "cell_type": "code",
      "metadata": {
        "colab": {
          "base_uri": "https://localhost:8080/"
        },
        "id": "BvsdtQ-tLUYx",
        "outputId": "df4b3d73-fe69-4acc-f49b-101ce1eaad18"
      },
      "source": [
        "%%R\n",
        "install.packages('ggplot2')"
      ],
      "execution_count": null,
      "outputs": [
        {
          "output_type": "stream",
          "text": [
            "R[write to console]: Installing package into ‘/usr/local/lib/R/site-library’\n",
            "(as ‘lib’ is unspecified)\n",
            "\n",
            "R[write to console]: trying URL 'https://cran.rstudio.com/src/contrib/ggplot2_3.3.4.tar.gz'\n",
            "\n",
            "R[write to console]: Content type 'application/x-gzip'\n",
            "R[write to console]:  length 3087976 bytes (2.9 MB)\n",
            "\n",
            "R[write to console]: =\n",
            "R[write to console]: =\n",
            "R[write to console]: =\n",
            "R[write to console]: =\n",
            "R[write to console]: =\n",
            "R[write to console]: =\n",
            "R[write to console]: =\n",
            "R[write to console]: =\n",
            "R[write to console]: =\n",
            "R[write to console]: =\n",
            "R[write to console]: =\n",
            "R[write to console]: =\n",
            "R[write to console]: =\n",
            "R[write to console]: =\n",
            "R[write to console]: =\n",
            "R[write to console]: =\n",
            "R[write to console]: =\n",
            "R[write to console]: =\n",
            "R[write to console]: =\n",
            "R[write to console]: =\n",
            "R[write to console]: =\n",
            "R[write to console]: =\n",
            "R[write to console]: =\n",
            "R[write to console]: =\n",
            "R[write to console]: =\n",
            "R[write to console]: =\n",
            "R[write to console]: =\n",
            "R[write to console]: =\n",
            "R[write to console]: =\n",
            "R[write to console]: =\n",
            "R[write to console]: =\n",
            "R[write to console]: =\n",
            "R[write to console]: =\n",
            "R[write to console]: =\n",
            "R[write to console]: =\n",
            "R[write to console]: =\n",
            "R[write to console]: =\n",
            "R[write to console]: =\n",
            "R[write to console]: =\n",
            "R[write to console]: =\n",
            "R[write to console]: =\n",
            "R[write to console]: =\n",
            "R[write to console]: =\n",
            "R[write to console]: =\n",
            "R[write to console]: =\n",
            "R[write to console]: =\n",
            "R[write to console]: =\n",
            "R[write to console]: =\n",
            "R[write to console]: =\n",
            "R[write to console]: =\n",
            "R[write to console]: \n",
            "\n",
            "R[write to console]: downloaded 2.9 MB\n",
            "\n",
            "\n",
            "R[write to console]: \n",
            "\n",
            "R[write to console]: \n",
            "R[write to console]: The downloaded source packages are in\n",
            "\t‘/tmp/RtmpxOheF7/downloaded_packages’\n",
            "R[write to console]: \n",
            "R[write to console]: \n",
            "\n"
          ],
          "name": "stderr"
        },
        {
          "output_type": "stream",
          "text": [
            "NULL\n"
          ],
          "name": "stdout"
        }
      ]
    },
    {
      "cell_type": "code",
      "metadata": {
        "id": "_0VB5HNqLbit"
      },
      "source": [
        "%%R\n",
        "library(ggplot2)"
      ],
      "execution_count": null,
      "outputs": []
    },
    {
      "cell_type": "code",
      "metadata": {
        "colab": {
          "base_uri": "https://localhost:8080/"
        },
        "id": "AER7H6AVMF2k",
        "outputId": "de36e5e0-d32f-499e-919a-9e722658f390"
      },
      "source": [
        "%%R\n",
        "update.packages()"
      ],
      "execution_count": null,
      "outputs": [
        {
          "output_type": "stream",
          "text": [
            "R[write to console]: Warning:\n",
            "R[write to console]:  package 'ggplot2' in library '/usr/lib/R/site-library' will not be updated\n",
            "\n"
          ],
          "name": "stderr"
        },
        {
          "output_type": "stream",
          "text": [
            "broom :\n",
            " Version 0.7.6 installed in /usr/lib/R/site-library \n",
            " Version 0.7.7 available at https://cran.rstudio.com\n",
            "Update? (Yes/no/cancel) Yes\n",
            "dplyr :\n",
            " Version 1.0.6 installed in /usr/lib/R/site-library \n",
            " Version 1.0.7 available at https://cran.rstudio.com\n",
            "Update? (Yes/no/cancel) Yes\n",
            "openssl :\n",
            " Version 1.4.3 installed in /usr/lib/R/site-library \n",
            " Version 1.4.4 available at https://cran.rstudio.com\n",
            "Update? (Yes/no/cancel) Yes\n",
            "rmarkdown :\n",
            " Version 2.8 installed in /usr/lib/R/site-library \n",
            " Version 2.9 available at https://cran.rstudio.com\n",
            "Update? (Yes/no/cancel) Yes\n",
            "testthat :\n",
            " Version 3.0.2 installed in /usr/lib/R/site-library \n",
            " Version 3.0.3 available at https://cran.rstudio.com\n",
            "Update? (Yes/no/cancel) Yes\n",
            "xfun :\n",
            " Version 0.23 installed in /usr/lib/R/site-library \n",
            " Version 0.24 available at https://cran.rstudio.com\n",
            "Update? (Yes/no/cancel) Yes\n"
          ],
          "name": "stdout"
        },
        {
          "output_type": "stream",
          "text": [
            "R[write to console]: trying URL 'https://cran.rstudio.com/src/contrib/broom_0.7.7.tar.gz'\n",
            "\n",
            "R[write to console]: Content type 'application/x-gzip'\n",
            "R[write to console]:  length 632928 bytes (618 KB)\n",
            "\n",
            "R[write to console]: =\n",
            "R[write to console]: =\n",
            "R[write to console]: =\n",
            "R[write to console]: =\n",
            "R[write to console]: =\n",
            "R[write to console]: =\n",
            "R[write to console]: =\n",
            "R[write to console]: =\n",
            "R[write to console]: =\n",
            "R[write to console]: =\n",
            "R[write to console]: =\n",
            "R[write to console]: =\n",
            "R[write to console]: =\n",
            "R[write to console]: =\n",
            "R[write to console]: =\n",
            "R[write to console]: =\n",
            "R[write to console]: =\n",
            "R[write to console]: =\n",
            "R[write to console]: =\n",
            "R[write to console]: =\n",
            "R[write to console]: =\n",
            "R[write to console]: =\n",
            "R[write to console]: =\n",
            "R[write to console]: =\n",
            "R[write to console]: =\n",
            "R[write to console]: =\n",
            "R[write to console]: =\n",
            "R[write to console]: =\n",
            "R[write to console]: =\n",
            "R[write to console]: =\n",
            "R[write to console]: =\n",
            "R[write to console]: =\n",
            "R[write to console]: =\n",
            "R[write to console]: =\n",
            "R[write to console]: =\n",
            "R[write to console]: =\n",
            "R[write to console]: =\n",
            "R[write to console]: =\n",
            "R[write to console]: =\n",
            "R[write to console]: =\n",
            "R[write to console]: =\n",
            "R[write to console]: =\n",
            "R[write to console]: =\n",
            "R[write to console]: =\n",
            "R[write to console]: =\n",
            "R[write to console]: =\n",
            "R[write to console]: =\n",
            "R[write to console]: =\n",
            "R[write to console]: =\n",
            "R[write to console]: =\n",
            "R[write to console]: \n",
            "\n",
            "R[write to console]: downloaded 618 KB\n",
            "\n",
            "\n",
            "R[write to console]: trying URL 'https://cran.rstudio.com/src/contrib/dplyr_1.0.7.tar.gz'\n",
            "\n",
            "R[write to console]: Content type 'application/x-gzip'\n",
            "R[write to console]:  length 852103 bytes (832 KB)\n",
            "\n",
            "R[write to console]: =\n",
            "R[write to console]: =\n",
            "R[write to console]: =\n",
            "R[write to console]: =\n",
            "R[write to console]: =\n",
            "R[write to console]: =\n",
            "R[write to console]: =\n",
            "R[write to console]: =\n",
            "R[write to console]: =\n",
            "R[write to console]: =\n",
            "R[write to console]: =\n",
            "R[write to console]: =\n",
            "R[write to console]: =\n",
            "R[write to console]: =\n",
            "R[write to console]: =\n",
            "R[write to console]: =\n",
            "R[write to console]: =\n",
            "R[write to console]: =\n",
            "R[write to console]: =\n",
            "R[write to console]: =\n",
            "R[write to console]: =\n",
            "R[write to console]: =\n",
            "R[write to console]: =\n",
            "R[write to console]: =\n",
            "R[write to console]: =\n",
            "R[write to console]: =\n",
            "R[write to console]: =\n",
            "R[write to console]: =\n",
            "R[write to console]: =\n",
            "R[write to console]: =\n",
            "R[write to console]: =\n",
            "R[write to console]: =\n",
            "R[write to console]: =\n",
            "R[write to console]: =\n",
            "R[write to console]: =\n",
            "R[write to console]: =\n",
            "R[write to console]: =\n",
            "R[write to console]: =\n",
            "R[write to console]: =\n",
            "R[write to console]: =\n",
            "R[write to console]: =\n",
            "R[write to console]: =\n",
            "R[write to console]: =\n",
            "R[write to console]: =\n",
            "R[write to console]: =\n",
            "R[write to console]: =\n",
            "R[write to console]: =\n",
            "R[write to console]: =\n",
            "R[write to console]: =\n",
            "R[write to console]: =\n",
            "R[write to console]: \n",
            "\n",
            "R[write to console]: downloaded 832 KB\n",
            "\n",
            "\n",
            "R[write to console]: trying URL 'https://cran.rstudio.com/src/contrib/openssl_1.4.4.tar.gz'\n",
            "\n",
            "R[write to console]: Content type 'application/x-gzip'\n",
            "R[write to console]:  length 1311285 bytes (1.3 MB)\n",
            "\n",
            "R[write to console]: =\n",
            "R[write to console]: =\n",
            "R[write to console]: =\n",
            "R[write to console]: =\n",
            "R[write to console]: =\n",
            "R[write to console]: =\n",
            "R[write to console]: =\n",
            "R[write to console]: =\n",
            "R[write to console]: =\n",
            "R[write to console]: =\n",
            "R[write to console]: =\n",
            "R[write to console]: =\n",
            "R[write to console]: =\n",
            "R[write to console]: =\n",
            "R[write to console]: =\n",
            "R[write to console]: =\n",
            "R[write to console]: =\n",
            "R[write to console]: =\n",
            "R[write to console]: =\n",
            "R[write to console]: =\n",
            "R[write to console]: =\n",
            "R[write to console]: =\n",
            "R[write to console]: =\n",
            "R[write to console]: =\n",
            "R[write to console]: =\n",
            "R[write to console]: =\n",
            "R[write to console]: =\n",
            "R[write to console]: =\n",
            "R[write to console]: =\n",
            "R[write to console]: =\n",
            "R[write to console]: =\n",
            "R[write to console]: =\n",
            "R[write to console]: =\n",
            "R[write to console]: =\n",
            "R[write to console]: =\n",
            "R[write to console]: =\n",
            "R[write to console]: =\n",
            "R[write to console]: =\n",
            "R[write to console]: =\n",
            "R[write to console]: =\n",
            "R[write to console]: =\n",
            "R[write to console]: =\n",
            "R[write to console]: =\n",
            "R[write to console]: =\n",
            "R[write to console]: =\n",
            "R[write to console]: =\n",
            "R[write to console]: =\n",
            "R[write to console]: =\n",
            "R[write to console]: =\n",
            "R[write to console]: =\n",
            "R[write to console]: \n",
            "\n",
            "R[write to console]: downloaded 1.3 MB\n",
            "\n",
            "\n",
            "R[write to console]: trying URL 'https://cran.rstudio.com/src/contrib/rmarkdown_2.9.tar.gz'\n",
            "\n",
            "R[write to console]: Content type 'application/x-gzip'\n",
            "R[write to console]:  length 3246617 bytes (3.1 MB)\n",
            "\n",
            "R[write to console]: =\n",
            "R[write to console]: =\n",
            "R[write to console]: =\n",
            "R[write to console]: =\n",
            "R[write to console]: =\n",
            "R[write to console]: =\n",
            "R[write to console]: =\n",
            "R[write to console]: =\n",
            "R[write to console]: =\n",
            "R[write to console]: =\n",
            "R[write to console]: =\n",
            "R[write to console]: =\n",
            "R[write to console]: =\n",
            "R[write to console]: =\n",
            "R[write to console]: =\n",
            "R[write to console]: =\n",
            "R[write to console]: =\n",
            "R[write to console]: =\n",
            "R[write to console]: =\n",
            "R[write to console]: =\n",
            "R[write to console]: =\n",
            "R[write to console]: =\n",
            "R[write to console]: =\n",
            "R[write to console]: =\n",
            "R[write to console]: =\n",
            "R[write to console]: =\n",
            "R[write to console]: =\n",
            "R[write to console]: =\n",
            "R[write to console]: =\n",
            "R[write to console]: =\n",
            "R[write to console]: =\n",
            "R[write to console]: =\n",
            "R[write to console]: =\n",
            "R[write to console]: =\n",
            "R[write to console]: =\n",
            "R[write to console]: =\n",
            "R[write to console]: =\n",
            "R[write to console]: =\n",
            "R[write to console]: =\n",
            "R[write to console]: =\n",
            "R[write to console]: =\n",
            "R[write to console]: =\n",
            "R[write to console]: =\n",
            "R[write to console]: =\n",
            "R[write to console]: =\n",
            "R[write to console]: =\n",
            "R[write to console]: =\n",
            "R[write to console]: =\n",
            "R[write to console]: =\n",
            "R[write to console]: =\n",
            "R[write to console]: \n",
            "\n",
            "R[write to console]: downloaded 3.1 MB\n",
            "\n",
            "\n",
            "R[write to console]: trying URL 'https://cran.rstudio.com/src/contrib/testthat_3.0.3.tar.gz'\n",
            "\n",
            "R[write to console]: Content type 'application/x-gzip'\n",
            "R[write to console]:  length 686260 bytes (670 KB)\n",
            "\n",
            "R[write to console]: =\n",
            "R[write to console]: =\n",
            "R[write to console]: =\n",
            "R[write to console]: =\n",
            "R[write to console]: =\n",
            "R[write to console]: =\n",
            "R[write to console]: =\n",
            "R[write to console]: =\n",
            "R[write to console]: =\n",
            "R[write to console]: =\n",
            "R[write to console]: =\n",
            "R[write to console]: =\n",
            "R[write to console]: =\n",
            "R[write to console]: =\n",
            "R[write to console]: =\n",
            "R[write to console]: =\n",
            "R[write to console]: =\n",
            "R[write to console]: =\n",
            "R[write to console]: =\n",
            "R[write to console]: =\n",
            "R[write to console]: =\n",
            "R[write to console]: =\n",
            "R[write to console]: =\n",
            "R[write to console]: =\n",
            "R[write to console]: =\n",
            "R[write to console]: =\n",
            "R[write to console]: =\n",
            "R[write to console]: =\n",
            "R[write to console]: =\n",
            "R[write to console]: =\n",
            "R[write to console]: =\n",
            "R[write to console]: =\n",
            "R[write to console]: =\n",
            "R[write to console]: =\n",
            "R[write to console]: =\n",
            "R[write to console]: =\n",
            "R[write to console]: =\n",
            "R[write to console]: =\n",
            "R[write to console]: =\n",
            "R[write to console]: =\n",
            "R[write to console]: =\n",
            "R[write to console]: =\n",
            "R[write to console]: =\n",
            "R[write to console]: =\n",
            "R[write to console]: =\n",
            "R[write to console]: =\n",
            "R[write to console]: =\n",
            "R[write to console]: =\n",
            "R[write to console]: =\n",
            "R[write to console]: =\n",
            "R[write to console]: \n",
            "\n",
            "R[write to console]: downloaded 670 KB\n",
            "\n",
            "\n",
            "R[write to console]: trying URL 'https://cran.rstudio.com/src/contrib/xfun_0.24.tar.gz'\n",
            "\n",
            "R[write to console]: Content type 'application/x-gzip'\n",
            "R[write to console]:  length 112441 bytes (109 KB)\n",
            "\n",
            "R[write to console]: =\n",
            "R[write to console]: =\n",
            "R[write to console]: =\n",
            "R[write to console]: =\n",
            "R[write to console]: =\n",
            "R[write to console]: =\n",
            "R[write to console]: =\n",
            "R[write to console]: =\n",
            "R[write to console]: =\n",
            "R[write to console]: =\n",
            "R[write to console]: =\n",
            "R[write to console]: =\n",
            "R[write to console]: =\n",
            "R[write to console]: =\n",
            "R[write to console]: =\n",
            "R[write to console]: =\n",
            "R[write to console]: =\n",
            "R[write to console]: =\n",
            "R[write to console]: =\n",
            "R[write to console]: =\n",
            "R[write to console]: =\n",
            "R[write to console]: =\n",
            "R[write to console]: =\n",
            "R[write to console]: =\n",
            "R[write to console]: =\n",
            "R[write to console]: =\n",
            "R[write to console]: =\n",
            "R[write to console]: =\n",
            "R[write to console]: =\n",
            "R[write to console]: =\n",
            "R[write to console]: =\n",
            "R[write to console]: =\n",
            "R[write to console]: =\n",
            "R[write to console]: =\n",
            "R[write to console]: =\n",
            "R[write to console]: =\n",
            "R[write to console]: =\n",
            "R[write to console]: =\n",
            "R[write to console]: =\n",
            "R[write to console]: =\n",
            "R[write to console]: =\n",
            "R[write to console]: =\n",
            "R[write to console]: =\n",
            "R[write to console]: =\n",
            "R[write to console]: =\n",
            "R[write to console]: =\n",
            "R[write to console]: =\n",
            "R[write to console]: =\n",
            "R[write to console]: =\n",
            "R[write to console]: =\n",
            "R[write to console]: \n",
            "\n",
            "R[write to console]: downloaded 109 KB\n",
            "\n",
            "\n",
            "R[write to console]: \n",
            "\n",
            "R[write to console]: \n",
            "R[write to console]: The downloaded source packages are in\n",
            "\t‘/tmp/RtmpxOheF7/downloaded_packages’\n",
            "R[write to console]: \n",
            "R[write to console]: \n",
            "\n"
          ],
          "name": "stderr"
        }
      ]
    },
    {
      "cell_type": "code",
      "metadata": {
        "id": "3QuqvLjrMZVD"
      },
      "source": [
        "%%R\n",
        "setwd(\"/content/drive/MyDrive/R\")"
      ],
      "execution_count": null,
      "outputs": []
    },
    {
      "cell_type": "code",
      "metadata": {
        "colab": {
          "base_uri": "https://localhost:8080/"
        },
        "id": "Y1Nsp5ieM884",
        "outputId": "aa6eba2e-ac42-47c1-cfef-3023314d7c23"
      },
      "source": [
        "%%R\n",
        "100^2+300"
      ],
      "execution_count": null,
      "outputs": [
        {
          "output_type": "stream",
          "text": [
            "[1] 10300\n"
          ],
          "name": "stdout"
        }
      ]
    },
    {
      "cell_type": "code",
      "metadata": {
        "colab": {
          "base_uri": "https://localhost:8080/"
        },
        "id": "vLNrMxQ7OY40",
        "outputId": "fd3a95ee-b8ae-406c-cda1-73efc7849798"
      },
      "source": [
        "%%R\n",
        "50/15\n",
        "50%%15"
      ],
      "execution_count": null,
      "outputs": [
        {
          "output_type": "stream",
          "text": [
            "[1] 5\n"
          ],
          "name": "stdout"
        }
      ]
    },
    {
      "cell_type": "code",
      "metadata": {
        "colab": {
          "base_uri": "https://localhost:8080/"
        },
        "id": "C4KHEVs5Ob31",
        "outputId": "87659443-7e56-4a3f-b601-b39a103c125c"
      },
      "source": [
        "%%R\n",
        "age<-20\n",
        "age"
      ],
      "execution_count": null,
      "outputs": [
        {
          "output_type": "stream",
          "text": [
            "[1] 20\n"
          ],
          "name": "stdout"
        }
      ]
    },
    {
      "cell_type": "code",
      "metadata": {
        "id": "TR1eYjlhQreR"
      },
      "source": [
        "%%R\n",
        "nic<-c('이쁜이', '웃는사람', '서울', '018')"
      ],
      "execution_count": null,
      "outputs": []
    },
    {
      "cell_type": "code",
      "metadata": {
        "colab": {
          "base_uri": "https://localhost:8080/"
        },
        "id": "vmiU-zFiR4hx",
        "outputId": "f825bdd6-b9cc-4fc4-f450-d44f83f88804"
      },
      "source": [
        "%%R\n",
        "age"
      ],
      "execution_count": null,
      "outputs": [
        {
          "output_type": "stream",
          "text": [
            "[1] 20\n"
          ],
          "name": "stdout"
        }
      ]
    },
    {
      "cell_type": "code",
      "metadata": {
        "colab": {
          "base_uri": "https://localhost:8080/"
        },
        "id": "J2bMLbXWR-ss",
        "outputId": "ea8e2b9b-3dad-4847-af5a-961f1503f0de"
      },
      "source": [
        "%%R\n",
        "'헐크'%in%nic"
      ],
      "execution_count": null,
      "outputs": [
        {
          "output_type": "stream",
          "text": [
            "[1] FALSE\n"
          ],
          "name": "stdout"
        }
      ]
    },
    {
      "cell_type": "code",
      "metadata": {
        "colab": {
          "base_uri": "https://localhost:8080/"
        },
        "id": "6QL2ICmBSOHA",
        "outputId": "d416fb82-420d-4b66-ebb4-3a5e3bdcf932"
      },
      "source": [
        "%%R\n",
        "Sys.Date()"
      ],
      "execution_count": null,
      "outputs": [
        {
          "output_type": "stream",
          "text": [
            "[1] \"2021-06-20\"\n"
          ],
          "name": "stdout"
        }
      ]
    },
    {
      "cell_type": "code",
      "metadata": {
        "colab": {
          "base_uri": "https://localhost:8080/"
        },
        "id": "7bXGGS9ETr_2",
        "outputId": "5eb8bb15-8b4b-4a5d-8572-aadf7f541846"
      },
      "source": [
        "%%R\n",
        "d1<-'2021-06-20'\n",
        "as.Date(d1)+100\n"
      ],
      "execution_count": null,
      "outputs": [
        {
          "output_type": "stream",
          "text": [
            "[1] \"2021-09-28\"\n"
          ],
          "name": "stdout"
        }
      ]
    },
    {
      "cell_type": "code",
      "metadata": {
        "colab": {
          "base_uri": "https://localhost:8080/"
        },
        "id": "0WBF3clFT3UX",
        "outputId": "1ece02f7-1525-4d13-8969-f245636d2eda"
      },
      "source": [
        "%%R\n",
        "rate<-NULL\n",
        "money<-c(1200,950,130000)\n",
        "if(sum(money)>=300000000){\n",
        "    rate<-0.017\n",
        "}\n",
        "is.null(rate)"
      ],
      "execution_count": null,
      "outputs": [
        {
          "output_type": "stream",
          "text": [
            "[1] TRUE\n"
          ],
          "name": "stdout"
        }
      ]
    },
    {
      "cell_type": "code",
      "metadata": {
        "colab": {
          "base_uri": "https://localhost:8080/"
        },
        "id": "lgnqdCzlWAem",
        "outputId": "45647cb3-7921-4ccc-e52b-5295d3479fac"
      },
      "source": [
        "%%R\n",
        "pet<-factor(c('강아지', '강아지','고양이','악어'))\n",
        "pet"
      ],
      "execution_count": null,
      "outputs": [
        {
          "output_type": "stream",
          "text": [
            "[1] 강아지 강아지 고양이 악어  \n",
            "Levels: 강아지 고양이 악어\n"
          ],
          "name": "stdout"
        }
      ]
    },
    {
      "cell_type": "code",
      "metadata": {
        "colab": {
          "base_uri": "https://localhost:8080/"
        },
        "id": "6zCSZaROYmpg",
        "outputId": "a607df52-db1c-4ae6-d678-11d70b296ee8"
      },
      "source": [
        "%%R\n",
        "religion<-factor(c('천주교','기독교','기독교','불교','불교','무교'),c('기독교','불교'))\n",
        "religion\n"
      ],
      "execution_count": null,
      "outputs": [
        {
          "output_type": "stream",
          "text": [
            "[1] <NA>   기독교 기독교 불교   불교   <NA>  \n",
            "Levels: 기독교 불교\n"
          ],
          "name": "stdout"
        }
      ]
    },
    {
      "cell_type": "code",
      "metadata": {
        "colab": {
          "base_uri": "https://localhost:8080/"
        },
        "id": "UJTSXpQfY2g7",
        "outputId": "35bb6c0a-6223-48a5-c428-d06607aff001"
      },
      "source": [
        "%%R\n",
        "width<-factor(c('18평','24평','24평','33평','33평','18평'), ordered=TRUE)\n",
        "width"
      ],
      "execution_count": null,
      "outputs": [
        {
          "output_type": "stream",
          "text": [
            "[1] 18평 24평 24평 33평 33평 18평\n",
            "Levels: 18평 < 24평 < 33평\n"
          ],
          "name": "stdout"
        }
      ]
    },
    {
      "cell_type": "code",
      "metadata": {
        "colab": {
          "base_uri": "https://localhost:8080/"
        },
        "id": "KJ6uurNbZXOu",
        "outputId": "9c78bd4e-b93e-4c64-d8d1-fd27ccab34ea"
      },
      "source": [
        "%%R\n",
        "table(religion)"
      ],
      "execution_count": null,
      "outputs": [
        {
          "output_type": "stream",
          "text": [
            "religion\n",
            "기독교   불교 \n",
            "     2      2 \n"
          ],
          "name": "stdout"
        }
      ]
    },
    {
      "cell_type": "code",
      "metadata": {
        "colab": {
          "base_uri": "https://localhost:8080/"
        },
        "id": "bE2L8XYpZ0hT",
        "outputId": "72867cba-4faa-4bc1-e1a3-7834a655e7a4"
      },
      "source": [
        "%%R\n",
        "unclass(religion)"
      ],
      "execution_count": null,
      "outputs": [
        {
          "output_type": "stream",
          "text": [
            "[1] NA  1  1  2  2 NA\n",
            "attr(,\"levels\")\n",
            "[1] \"기독교\" \"불교\"  \n"
          ],
          "name": "stdout"
        }
      ]
    },
    {
      "cell_type": "code",
      "metadata": {
        "colab": {
          "base_uri": "https://localhost:8080/"
        },
        "id": "ZMkxDACVaEKP",
        "outputId": "a304e762-e608-42dc-cb22-ece95ded20bc"
      },
      "source": [
        "%%R\n",
        "x<--1:5\n",
        "x"
      ],
      "execution_count": null,
      "outputs": [
        {
          "output_type": "stream",
          "text": [
            "[1] -1  0  1  2  3  4  5\n"
          ],
          "name": "stdout"
        }
      ]
    },
    {
      "cell_type": "code",
      "metadata": {
        "colab": {
          "base_uri": "https://localhost:8080/"
        },
        "id": "g0vAP99zkSM-",
        "outputId": "8f37fd73-7693-4ba5-8a0f-e71d279a3918"
      },
      "source": [
        "%%R\n",
        "is.vector(x)"
      ],
      "execution_count": null,
      "outputs": [
        {
          "output_type": "stream",
          "text": [
            "[1] TRUE\n"
          ],
          "name": "stdout"
        }
      ]
    },
    {
      "cell_type": "code",
      "metadata": {
        "colab": {
          "base_uri": "https://localhost:8080/"
        },
        "id": "tzd2p_HBkV7N",
        "outputId": "5aa68400-89b2-412b-f0c1-9f788529ee6e"
      },
      "source": [
        "%%R\n",
        "x+2"
      ],
      "execution_count": null,
      "outputs": [
        {
          "output_type": "stream",
          "text": [
            "[1] 1 2 3 4 5 6 7\n"
          ],
          "name": "stdout"
        }
      ]
    },
    {
      "cell_type": "code",
      "metadata": {
        "colab": {
          "base_uri": "https://localhost:8080/"
        },
        "id": "kBG90WQ_kat-",
        "outputId": "780c1157-dd98-4b8a-887b-27eb3254272a"
      },
      "source": [
        "%%R\n",
        "c<-as.character(x)\n",
        "c"
      ],
      "execution_count": null,
      "outputs": [
        {
          "output_type": "stream",
          "text": [
            "[1] \"-1\" \"0\"  \"1\"  \"2\"  \"3\"  \"4\"  \"5\" \n"
          ],
          "name": "stdout"
        }
      ]
    },
    {
      "cell_type": "code",
      "metadata": {
        "colab": {
          "base_uri": "https://localhost:8080/"
        },
        "id": "8w_AA4i1kgY0",
        "outputId": "ea794f86-38c4-4630-9f46-6ba405381a93"
      },
      "source": [
        "%%R\n",
        "n<-as.numeric(c)\n",
        "n"
      ],
      "execution_count": null,
      "outputs": [
        {
          "output_type": "stream",
          "text": [
            "[1] -1  0  1  2  3  4  5\n"
          ],
          "name": "stdout"
        }
      ]
    },
    {
      "cell_type": "code",
      "metadata": {
        "colab": {
          "base_uri": "https://localhost:8080/"
        },
        "id": "uNV6OqFBknzR",
        "outputId": "2bd9762e-16a8-4229-91b0-2c075af088d8"
      },
      "source": [
        "%%R\n",
        "f<-factor(n)\n",
        "f"
      ],
      "execution_count": null,
      "outputs": [
        {
          "output_type": "stream",
          "text": [
            "[1] -1 0  1  2  3  4  5 \n",
            "Levels: -1 0 1 2 3 4 5\n"
          ],
          "name": "stdout"
        }
      ]
    },
    {
      "cell_type": "code",
      "metadata": {
        "colab": {
          "base_uri": "https://localhost:8080/"
        },
        "id": "PrgPGTmTkxa0",
        "outputId": "db9e8ac0-0c81-42d0-a920-2e64f6ff7abb"
      },
      "source": [
        "%%R\n",
        "coffee<-c(300,3000,1000,200)\n",
        "names(coffee)<-c('아메리카노', '에스프레소', '카페모카', '화이트라떼')\n",
        "coffee"
      ],
      "execution_count": null,
      "outputs": [
        {
          "output_type": "stream",
          "text": [
            "아메리카노 에스프레소   카페모카 화이트라떼 \n",
            "       300       3000       1000        200 \n"
          ],
          "name": "stdout"
        }
      ]
    },
    {
      "cell_type": "code",
      "metadata": {
        "colab": {
          "base_uri": "https://localhost:8080/"
        },
        "id": "DYtC8Im-lyeo",
        "outputId": "7837cc00-91fe-47e2-a1bb-0c7498b55b71"
      },
      "source": [
        "%%R\n",
        "acoffee<-c('아메리카노','에스프레소')\n",
        "bcoffee<-c('에스프레소','카페라떼','헤이즐넛')\n",
        "coffeemenu<-c(acoffee,bcoffee)\n",
        "coffeemenu"
      ],
      "execution_count": null,
      "outputs": [
        {
          "output_type": "stream",
          "text": [
            "[1] \"아메리카노\" \"에스프레소\" \"에스프레소\" \"카페라떼\"   \"헤이즐넛\"  \n"
          ],
          "name": "stdout"
        }
      ]
    },
    {
      "cell_type": "code",
      "metadata": {
        "colab": {
          "base_uri": "https://localhost:8080/"
        },
        "id": "myv285osmRZp",
        "outputId": "942a9d80-48d6-4747-84cb-f196422568b2"
      },
      "source": [
        "%%R\n",
        "coffee['카페모카']"
      ],
      "execution_count": null,
      "outputs": [
        {
          "output_type": "stream",
          "text": [
            "카페모카 \n",
            "    1000 \n"
          ],
          "name": "stdout"
        }
      ]
    },
    {
      "cell_type": "code",
      "metadata": {
        "colab": {
          "base_uri": "https://localhost:8080/"
        },
        "id": "_gZLYaYzmWw_",
        "outputId": "ed1ef914-cecb-445c-94d5-1319f105d8bc"
      },
      "source": [
        "%%R\n",
        "coffee[1]<-3000\n",
        "coffee"
      ],
      "execution_count": null,
      "outputs": [
        {
          "output_type": "stream",
          "text": [
            "아메리카노 에스프레소   카페모카 화이트라떼 \n",
            "      3000       3000       1000        200 \n"
          ],
          "name": "stdout"
        }
      ]
    },
    {
      "cell_type": "code",
      "metadata": {
        "colab": {
          "base_uri": "https://localhost:8080/"
        },
        "id": "0LBYudjXm0Vu",
        "outputId": "ffa235ec-23de-42db-e445-14441c1623e0"
      },
      "source": [
        "%%R\n",
        "coffee[-2]"
      ],
      "execution_count": null,
      "outputs": [
        {
          "output_type": "stream",
          "text": [
            "아메리카노   카페모카 화이트라떼 \n",
            "      3000       1000        200 \n"
          ],
          "name": "stdout"
        }
      ]
    },
    {
      "cell_type": "markdown",
      "metadata": {
        "id": "X5afdaKBsq6b"
      },
      "source": [
        "# 리스트, 행렬"
      ]
    },
    {
      "cell_type": "code",
      "metadata": {
        "colab": {
          "base_uri": "https://localhost:8080/"
        },
        "id": "5_9ko0DUm6I3",
        "outputId": "afbecd02-6b1d-45e0-988f-5c2c53848320"
      },
      "source": [
        "%%R\n",
        "my1<-list('정훈희', '프리랜서', '서울', 1.2)\n",
        "my1"
      ],
      "execution_count": null,
      "outputs": [
        {
          "output_type": "stream",
          "text": [
            "[[1]]\n",
            "[1] \"정훈희\"\n",
            "\n",
            "[[2]]\n",
            "[1] \"프리랜서\"\n",
            "\n",
            "[[3]]\n",
            "[1] \"서울\"\n",
            "\n",
            "[[4]]\n",
            "[1] 1.2\n",
            "\n"
          ],
          "name": "stdout"
        }
      ]
    },
    {
      "cell_type": "code",
      "metadata": {
        "colab": {
          "base_uri": "https://localhost:8080/"
        },
        "id": "6RwzwPLRs5R7",
        "outputId": "e6e37d7d-1d80-4d81-b769-79b4a1298a8a"
      },
      "source": [
        "%%R\n",
        "myfavorit<-list(friend='홍길동', mynum=7, myalpha='z')\n",
        "myfavorit"
      ],
      "execution_count": null,
      "outputs": [
        {
          "output_type": "stream",
          "text": [
            "$friend\n",
            "[1] \"홍길동\"\n",
            "\n",
            "$mynum\n",
            "[1] 7\n",
            "\n",
            "$myalpha\n",
            "[1] \"z\"\n",
            "\n"
          ],
          "name": "stdout"
        }
      ]
    },
    {
      "cell_type": "code",
      "metadata": {
        "colab": {
          "base_uri": "https://localhost:8080/"
        },
        "id": "rFkgMNFvtI-l",
        "outputId": "f0de1348-8267-44e8-c854-9da47b95c7a8"
      },
      "source": [
        "%%R\n",
        "myfavorit$myalpha"
      ],
      "execution_count": null,
      "outputs": [
        {
          "output_type": "stream",
          "text": [
            "[1] \"z\"\n"
          ],
          "name": "stdout"
        }
      ]
    },
    {
      "cell_type": "code",
      "metadata": {
        "colab": {
          "base_uri": "https://localhost:8080/"
        },
        "id": "v9e9jrj4tWai",
        "outputId": "aebe4c53-43ae-4d15-99b8-0c89272d0def"
      },
      "source": [
        "%%R\n",
        "myfavorit$mysong<-'Let it be'\n",
        "myfavorit"
      ],
      "execution_count": null,
      "outputs": [
        {
          "output_type": "stream",
          "text": [
            "$friend\n",
            "[1] \"홍길동\"\n",
            "\n",
            "$mynum\n",
            "[1] 7\n",
            "\n",
            "$myalpha\n",
            "[1] \"z\"\n",
            "\n",
            "$mysong\n",
            "[1] \"Let it be\"\n",
            "\n"
          ],
          "name": "stdout"
        }
      ]
    },
    {
      "cell_type": "code",
      "metadata": {
        "colab": {
          "base_uri": "https://localhost:8080/"
        },
        "id": "yNtAuiVHtpzQ",
        "outputId": "ba11d31b-2aad-49b1-96a6-9f17a7346197"
      },
      "source": [
        "%%R\n",
        "myfavorit$myfood<-c('된장찌개', '돈까스', '짜장면')\n",
        "myfavorit"
      ],
      "execution_count": null,
      "outputs": [
        {
          "output_type": "stream",
          "text": [
            "$friend\n",
            "[1] \"홍길동\"\n",
            "\n",
            "$mynum\n",
            "[1] 7\n",
            "\n",
            "$myalpha\n",
            "[1] \"z\"\n",
            "\n",
            "$mysong\n",
            "[1] \"Let it be\"\n",
            "\n",
            "$myfood\n",
            "[1] \"된장찌개\" \"돈까스\"   \"짜장면\"  \n",
            "\n"
          ],
          "name": "stdout"
        }
      ]
    },
    {
      "cell_type": "code",
      "metadata": {
        "colab": {
          "base_uri": "https://localhost:8080/"
        },
        "id": "IeYFQN46t8Nk",
        "outputId": "f5929dae-c6cd-4bb7-91ef-8671d2a01d00"
      },
      "source": [
        "%%R\n",
        "age<-matrix(c(25,33,23,36,25,47), nrow=2)\n",
        "age"
      ],
      "execution_count": null,
      "outputs": [
        {
          "output_type": "stream",
          "text": [
            "     [,1] [,2] [,3]\n",
            "[1,]   25   23   25\n",
            "[2,]   33   36   47\n"
          ],
          "name": "stdout"
        }
      ]
    },
    {
      "cell_type": "code",
      "metadata": {
        "colab": {
          "base_uri": "https://localhost:8080/"
        },
        "id": "OrLtsEJTuv9r",
        "outputId": "5065bb1e-b190-4557-a2bd-9e6be4843a8f"
      },
      "source": [
        "%%R\n",
        "age<-matrix(c(25,33,23,36,25,47), ncol=3, byrow=TRUE)\n",
        "age"
      ],
      "execution_count": null,
      "outputs": [
        {
          "output_type": "stream",
          "text": [
            "     [,1] [,2] [,3]\n",
            "[1,]   25   33   23\n",
            "[2,]   36   25   47\n"
          ],
          "name": "stdout"
        }
      ]
    },
    {
      "cell_type": "code",
      "metadata": {
        "colab": {
          "base_uri": "https://localhost:8080/"
        },
        "id": "pZ64rDDtu7BC",
        "outputId": "20b27f94-a5eb-4bcf-ad31-c456901fb9b5"
      },
      "source": [
        "%%R\n",
        "info<-matrix(c('177cm', '67kg', '155cm', '41kg', '164cm', '15kg'), ncol=2, byrow=TRUE)\n",
        "info"
      ],
      "execution_count": null,
      "outputs": [
        {
          "output_type": "stream",
          "text": [
            "     [,1]    [,2]  \n",
            "[1,] \"177cm\" \"67kg\"\n",
            "[2,] \"155cm\" \"41kg\"\n",
            "[3,] \"164cm\" \"15kg\"\n"
          ],
          "name": "stdout"
        }
      ]
    },
    {
      "cell_type": "code",
      "metadata": {
        "colab": {
          "base_uri": "https://localhost:8080/"
        },
        "id": "vZpmxcGjvbhI",
        "outputId": "c83ab5f5-6da1-421a-b74a-9c008f12f43d"
      },
      "source": [
        "%%R\n",
        "dimnames(info)<-list(c('1번','2번','3번'), c('키', '몸무게'))\n",
        "info"
      ],
      "execution_count": null,
      "outputs": [
        {
          "output_type": "stream",
          "text": [
            "    키      몸무게\n",
            "1번 \"177cm\" \"67kg\"\n",
            "2번 \"155cm\" \"41kg\"\n",
            "3번 \"164cm\" \"15kg\"\n"
          ],
          "name": "stdout"
        }
      ]
    },
    {
      "cell_type": "code",
      "metadata": {
        "colab": {
          "base_uri": "https://localhost:8080/"
        },
        "id": "AWu2At4wvnga",
        "outputId": "c5ee53f5-c6fa-49b3-eb95-0afc64ae406c"
      },
      "source": [
        "%%R\n",
        "info<-cbind(info, c('남','남','여','여'))\n",
        "info"
      ],
      "execution_count": null,
      "outputs": [
        {
          "output_type": "stream",
          "text": [
            "    키      몸무게     \n",
            "1번 \"177cm\" \"67kg\" \"남\"\n",
            "2번 \"155cm\" \"41kg\" \"남\"\n",
            "3번 \"164cm\" \"15kg\" \"여\"\n"
          ],
          "name": "stdout"
        }
      ]
    },
    {
      "cell_type": "code",
      "metadata": {
        "colab": {
          "base_uri": "https://localhost:8080/"
        },
        "id": "AY2660tSwKZD",
        "outputId": "ba4c6651-7eda-4b32-b361-e8e752ae36e8"
      },
      "source": [
        "%%R\n",
        "a1<-c('180cm', '60kg','남')\n",
        "a2<-c('156cm', '40kg','여')\n",
        "rbind(info,a1,a2)"
      ],
      "execution_count": null,
      "outputs": [
        {
          "output_type": "stream",
          "text": [
            "    키      몸무게     \n",
            "1번 \"177cm\" \"67kg\" \"남\"\n",
            "2번 \"155cm\" \"41kg\" \"남\"\n",
            "3번 \"164cm\" \"15kg\" \"여\"\n",
            "a1  \"180cm\" \"60kg\" \"남\"\n",
            "a2  \"156cm\" \"40kg\" \"여\"\n"
          ],
          "name": "stdout"
        }
      ]
    },
    {
      "cell_type": "markdown",
      "metadata": {
        "id": "o-YTuyUrwi8s"
      },
      "source": [
        "#데이터프레임"
      ]
    },
    {
      "cell_type": "markdown",
      "metadata": {
        "id": "vZvbQQ6z97jK"
      },
      "source": [
        "#조건제어문"
      ]
    },
    {
      "cell_type": "code",
      "metadata": {
        "colab": {
          "base_uri": "https://localhost:8080/"
        },
        "id": "7y986Pu9wckT",
        "outputId": "2993e2cb-7411-4acc-86c3-334521e2b340"
      },
      "source": [
        "%%R\n",
        "#단순if예문\n",
        "a<-5\n",
        "if(a%%2==0){\n",
        "  result<-\"짝수\"\n",
        "  result\n",
        "}else{\n",
        "   result<-\"홀수\"\n",
        "   result\n",
        "}"
      ],
      "execution_count": null,
      "outputs": [
        {
          "output_type": "stream",
          "text": [
            "[1] \"홀수\"\n"
          ],
          "name": "stdout"
        }
      ]
    },
    {
      "cell_type": "code",
      "metadata": {
        "colab": {
          "base_uri": "https://localhost:8080/"
        },
        "id": "t3ONHalm9UM8",
        "outputId": "88485590-cc91-4e1a-db37-8ac099352f67"
      },
      "source": [
        "# 논리연산자 이용한 if예문\n",
        "%%R\n",
        "a<-75\n",
        "if(a%%3==0 && a%%5==0){\n",
        "result<-\"3의 배수이면서 5의 배수\"\n",
        "}else if(a%%3==0){ \n",
        "result<-\"3의 배수\"\n",
        "}else if(a%%5==0){\n",
        "result<-\"5의 배수\"\n",
        "}\n",
        "result"
      ],
      "execution_count": null,
      "outputs": [
        {
          "output_type": "stream",
          "text": [
            "[1] \"3의 배수이면서 5의 배수\"\n"
          ],
          "name": "stdout"
        }
      ]
    },
    {
      "cell_type": "code",
      "metadata": {
        "colab": {
          "base_uri": "https://localhost:8080/"
        },
        "id": "vvEEKmTF9d3P",
        "outputId": "22e7bfcb-618d-4895-eeac-aa07c33b7010"
      },
      "source": [
        "%%R\n",
        "# ifelse 이용하여 벡터객체 일괄비교 분석 후 프레임으로 결과 표시예\n",
        "a<-c(10,13,7,8,100)\n",
        "result<-c(ifelse(a%%2==0,\"짝수\",\"홀수\"))\n",
        "df<-data.frame(a,result)\n",
        "df"
      ],
      "execution_count": null,
      "outputs": [
        {
          "output_type": "stream",
          "text": [
            "    a result\n",
            "1  10   짝수\n",
            "2  13   홀수\n",
            "3   7   홀수\n",
            "4   8   짝수\n",
            "5 100   짝수\n"
          ],
          "name": "stdout"
        }
      ]
    },
    {
      "cell_type": "code",
      "metadata": {
        "id": "1JJd9N2R9gbd"
      },
      "source": [
        "%%R\n",
        "#ifelse 응용예문\n",
        "a<-c(10,13,22,15,9)\n",
        "result<-ifelse(a>mean(a),\"평균초과\",ifelse(a<mean(a),\"평균미달\",\"평균값\"))\n",
        "df2<-data.frame(a,result)\n",
        "df2\n",
        "\n",
        "a<-c(4,25,8,33,17,20)\n",
        "evensum<-0\n",
        "for(x in 1:length(a)){\n",
        "  if(a[x]%%2==0) evensum<-evensum+a[x]\n",
        "}\n",
        "evensum\n"
      ],
      "execution_count": null,
      "outputs": []
    },
    {
      "cell_type": "markdown",
      "metadata": {
        "id": "fM5OT0F8-3D7"
      },
      "source": [
        "# 반복문"
      ]
    },
    {
      "cell_type": "code",
      "metadata": {
        "colab": {
          "base_uri": "https://localhost:8080/"
        },
        "id": "ZuD--iOS9loU",
        "outputId": "fbc9d86f-e182-4690-e307-fc870af96e1f"
      },
      "source": [
        "%%R\n",
        "#구구단\n",
        "gugudan<-matrix(0,nrow=9,ncol=9)\n",
        "for(i in 1:9){\n",
        "  for(j in 1:9) {\n",
        "   gugudan[i,j]<-i*j\n",
        "}\n",
        "}\n",
        "gugudan"
      ],
      "execution_count": null,
      "outputs": [
        {
          "output_type": "stream",
          "text": [
            "      [,1] [,2] [,3] [,4] [,5] [,6] [,7] [,8] [,9]\n",
            " [1,]    1    2    3    4    5    6    7    8    9\n",
            " [2,]    2    4    6    8   10   12   14   16   18\n",
            " [3,]    3    6    9   12   15   18   21   24   27\n",
            " [4,]    4    8   12   16   20   24   28   32   36\n",
            " [5,]    5   10   15   20   25   30   35   40   45\n",
            " [6,]    6   12   18   24   30   36   42   48   54\n",
            " [7,]    7   14   21   28   35   42   49   56   63\n",
            " [8,]    8   16   24   32   40   48   56   64   72\n",
            " [9,]    9   18   27   36   45   54   63   72   81\n"
          ],
          "name": "stdout"
        }
      ]
    },
    {
      "cell_type": "code",
      "metadata": {
        "colab": {
          "base_uri": "https://localhost:8080/"
        },
        "id": "KCrKIhFE9sX-",
        "outputId": "bde184c4-2777-4faf-9183-b7a33ff1c008"
      },
      "source": [
        "%%R\n",
        "#while -1\n",
        "i<-1\n",
        "isum<-0\n",
        "while(i<=10){\n",
        "isum<-isum+i\n",
        "i<-i+1\n",
        "}\n",
        "isum"
      ],
      "execution_count": null,
      "outputs": [
        {
          "output_type": "stream",
          "text": [
            "[1] 55\n"
          ],
          "name": "stdout"
        }
      ]
    },
    {
      "cell_type": "code",
      "metadata": {
        "colab": {
          "base_uri": "https://localhost:8080/"
        },
        "id": "OcqTGg3l9xwY",
        "outputId": "90d83ef9-6375-48df-e48a-d4bc55883c24"
      },
      "source": [
        "%%R\n",
        "#while-2\n",
        "i<-1\n",
        "isum<-0\n",
        "while(TRUE) {\n",
        "isum<-isum+i\n",
        "cat(\"1부터\",i,\"까지 합=\",isum,\"\\n\")\n",
        "if(isum>500) break\n",
        "i<-i+1\n",
        "}"
      ],
      "execution_count": null,
      "outputs": [
        {
          "output_type": "stream",
          "text": [
            "1부터 1 까지 합= 1 \n",
            "1부터 2 까지 합= 3 \n",
            "1부터 3 까지 합= 6 \n",
            "1부터 4 까지 합= 10 \n",
            "1부터 5 까지 합= 15 \n",
            "1부터 6 까지 합= 21 \n",
            "1부터 7 까지 합= 28 \n",
            "1부터 8 까지 합= 36 \n",
            "1부터 9 까지 합= 45 \n",
            "1부터 10 까지 합= 55 \n",
            "1부터 11 까지 합= 66 \n",
            "1부터 12 까지 합= 78 \n",
            "1부터 13 까지 합= 91 \n",
            "1부터 14 까지 합= 105 \n",
            "1부터 15 까지 합= 120 \n",
            "1부터 16 까지 합= 136 \n",
            "1부터 17 까지 합= 153 \n",
            "1부터 18 까지 합= 171 \n",
            "1부터 19 까지 합= 190 \n",
            "1부터 20 까지 합= 210 \n",
            "1부터 21 까지 합= 231 \n",
            "1부터 22 까지 합= 253 \n",
            "1부터 23 까지 합= 276 \n",
            "1부터 24 까지 합= 300 \n",
            "1부터 25 까지 합= 325 \n",
            "1부터 26 까지 합= 351 \n",
            "1부터 27 까지 합= 378 \n",
            "1부터 28 까지 합= 406 \n",
            "1부터 29 까지 합= 435 \n",
            "1부터 30 까지 합= 465 \n",
            "1부터 31 까지 합= 496 \n",
            "1부터 32 까지 합= 528 \n"
          ],
          "name": "stdout"
        }
      ]
    },
    {
      "cell_type": "code",
      "metadata": {
        "colab": {
          "base_uri": "https://localhost:8080/"
        },
        "id": "nwsH_Q5q9xXy",
        "outputId": "a17a57b8-e25e-429f-9d5d-ec626bf20c95"
      },
      "source": [
        "%%R\n",
        "#repeat\n",
        "a<-c(23,15,17,33,45)\n",
        "i<-1\n",
        "repeat{\n",
        "if(a[i]<mean(a)) break\n",
        "i<-i+1\n",
        "}\n",
        "a[i]\n",
        "mean(a)"
      ],
      "execution_count": null,
      "outputs": [
        {
          "output_type": "stream",
          "text": [
            "[1] 26.6\n"
          ],
          "name": "stdout"
        }
      ]
    },
    {
      "cell_type": "code",
      "metadata": {
        "colab": {
          "base_uri": "https://localhost:8080/"
        },
        "id": "we1K9-2t9ztF",
        "outputId": "4f4ed67d-bad2-4c3e-91d1-9ecfc7d4bf40"
      },
      "source": [
        "%%R\n",
        "#apply-1\n",
        "height<-c(177,180,167,165,170,NA)\n",
        "weight<-c(NA,77.3,80,60,NA,64)\n",
        "df<-data.frame(신장=height,체중=weight)\n",
        "names(df)<-c(\"신장\",\"체중\")\n",
        "df\n",
        "apply(df,2,mean,na.rm=TRUE)\n",
        "lapply(df,max,na.rm=TRUE)\n",
        "sapply(df,max,na.rm=TRUE)"
      ],
      "execution_count": null,
      "outputs": [
        {
          "output_type": "stream",
          "text": [
            "신장 체중 \n",
            " 180   80 \n"
          ],
          "name": "stdout"
        }
      ]
    },
    {
      "cell_type": "code",
      "metadata": {
        "id": "ApCtxQ8XPz58"
      },
      "source": [
        ""
      ],
      "execution_count": null,
      "outputs": []
    },
    {
      "cell_type": "code",
      "metadata": {
        "colab": {
          "base_uri": "https://localhost:8080/",
          "height": 700
        },
        "id": "Nq8xLu6k-asT",
        "outputId": "b982e635-90c1-4f8a-c246-a5fd5bea84f1"
      },
      "source": [
        "%%R\n",
        "#tapply활용\n",
        "dflist<-read.table(\"/content/drive/MyDrive/인턴십공부/R/passlist.txt\", encoding='utf-8', header=TRUE)\n",
        "dflist\n",
        "tapply(dflist$나이,dflist$성별,mean,simplify=FALSE)"
      ],
      "execution_count": null,
      "outputs": [
        {
          "output_type": "stream",
          "text": [
            "R[write to console]: Error in make.names(col.names, unique = TRUE) : \n",
            "  invalid multibyte string at '<b3><aa><c0><cc>'\n",
            "\n"
          ],
          "name": "stderr"
        },
        {
          "output_type": "stream",
          "text": [
            "\n",
            "Error in make.names(col.names, unique = TRUE) : \n",
            "  invalid multibyte string at '<b3><aa><c0><cc>'\n"
          ],
          "name": "stdout"
        },
        {
          "output_type": "error",
          "ename": "RInterpreterError",
          "evalue": "ignored",
          "traceback": [
            "\u001b[0;31m---------------------------------------------------------------------------\u001b[0m",
            "\u001b[0;31mRRuntimeError\u001b[0m                             Traceback (most recent call last)",
            "\u001b[0;32m/usr/local/lib/python3.7/dist-packages/rpy2/ipython/rmagic.py\u001b[0m in \u001b[0;36meval\u001b[0;34m(self, code)\u001b[0m\n\u001b[1;32m    267\u001b[0m                 \u001b[0;31m# Need the newline in case the last line in code is a comment.\u001b[0m\u001b[0;34m\u001b[0m\u001b[0;34m\u001b[0m\u001b[0;34m\u001b[0m\u001b[0m\n\u001b[0;32m--> 268\u001b[0;31m                 \u001b[0mvalue\u001b[0m\u001b[0;34m,\u001b[0m \u001b[0mvisible\u001b[0m \u001b[0;34m=\u001b[0m \u001b[0mro\u001b[0m\u001b[0;34m.\u001b[0m\u001b[0mr\u001b[0m\u001b[0;34m(\u001b[0m\u001b[0;34m\"withVisible({%s\\n})\"\u001b[0m \u001b[0;34m%\u001b[0m \u001b[0mcode\u001b[0m\u001b[0;34m)\u001b[0m\u001b[0;34m\u001b[0m\u001b[0;34m\u001b[0m\u001b[0m\n\u001b[0m\u001b[1;32m    269\u001b[0m             \u001b[0;32mexcept\u001b[0m \u001b[0;34m(\u001b[0m\u001b[0mri\u001b[0m\u001b[0;34m.\u001b[0m\u001b[0membedded\u001b[0m\u001b[0;34m.\u001b[0m\u001b[0mRRuntimeError\u001b[0m\u001b[0;34m,\u001b[0m \u001b[0mValueError\u001b[0m\u001b[0;34m)\u001b[0m \u001b[0;32mas\u001b[0m \u001b[0mexception\u001b[0m\u001b[0;34m:\u001b[0m\u001b[0;34m\u001b[0m\u001b[0;34m\u001b[0m\u001b[0m\n",
            "\u001b[0;32m/usr/local/lib/python3.7/dist-packages/rpy2/robjects/__init__.py\u001b[0m in \u001b[0;36m__call__\u001b[0;34m(self, string)\u001b[0m\n\u001b[1;32m    437\u001b[0m         \u001b[0mp\u001b[0m \u001b[0;34m=\u001b[0m \u001b[0mrinterface\u001b[0m\u001b[0;34m.\u001b[0m\u001b[0mparse\u001b[0m\u001b[0;34m(\u001b[0m\u001b[0mstring\u001b[0m\u001b[0;34m)\u001b[0m\u001b[0;34m\u001b[0m\u001b[0;34m\u001b[0m\u001b[0m\n\u001b[0;32m--> 438\u001b[0;31m         \u001b[0mres\u001b[0m \u001b[0;34m=\u001b[0m \u001b[0mself\u001b[0m\u001b[0;34m.\u001b[0m\u001b[0meval\u001b[0m\u001b[0;34m(\u001b[0m\u001b[0mp\u001b[0m\u001b[0;34m)\u001b[0m\u001b[0;34m\u001b[0m\u001b[0;34m\u001b[0m\u001b[0m\n\u001b[0m\u001b[1;32m    439\u001b[0m         \u001b[0;32mreturn\u001b[0m \u001b[0mconversion\u001b[0m\u001b[0;34m.\u001b[0m\u001b[0mrpy2py\u001b[0m\u001b[0;34m(\u001b[0m\u001b[0mres\u001b[0m\u001b[0;34m)\u001b[0m\u001b[0;34m\u001b[0m\u001b[0;34m\u001b[0m\u001b[0m\n",
            "\u001b[0;32m/usr/local/lib/python3.7/dist-packages/rpy2/robjects/functions.py\u001b[0m in \u001b[0;36m__call__\u001b[0;34m(self, *args, **kwargs)\u001b[0m\n\u001b[1;32m    198\u001b[0m         return (super(SignatureTranslatedFunction, self)\n\u001b[0;32m--> 199\u001b[0;31m                 .__call__(*args, **kwargs))\n\u001b[0m\u001b[1;32m    200\u001b[0m \u001b[0;34m\u001b[0m\u001b[0m\n",
            "\u001b[0;32m/usr/local/lib/python3.7/dist-packages/rpy2/robjects/functions.py\u001b[0m in \u001b[0;36m__call__\u001b[0;34m(self, *args, **kwargs)\u001b[0m\n\u001b[1;32m    124\u001b[0m                 \u001b[0mnew_kwargs\u001b[0m\u001b[0;34m[\u001b[0m\u001b[0mk\u001b[0m\u001b[0;34m]\u001b[0m \u001b[0;34m=\u001b[0m \u001b[0mconversion\u001b[0m\u001b[0;34m.\u001b[0m\u001b[0mpy2rpy\u001b[0m\u001b[0;34m(\u001b[0m\u001b[0mv\u001b[0m\u001b[0;34m)\u001b[0m\u001b[0;34m\u001b[0m\u001b[0;34m\u001b[0m\u001b[0m\n\u001b[0;32m--> 125\u001b[0;31m         \u001b[0mres\u001b[0m \u001b[0;34m=\u001b[0m \u001b[0msuper\u001b[0m\u001b[0;34m(\u001b[0m\u001b[0mFunction\u001b[0m\u001b[0;34m,\u001b[0m \u001b[0mself\u001b[0m\u001b[0;34m)\u001b[0m\u001b[0;34m.\u001b[0m\u001b[0m__call__\u001b[0m\u001b[0;34m(\u001b[0m\u001b[0;34m*\u001b[0m\u001b[0mnew_args\u001b[0m\u001b[0;34m,\u001b[0m \u001b[0;34m**\u001b[0m\u001b[0mnew_kwargs\u001b[0m\u001b[0;34m)\u001b[0m\u001b[0;34m\u001b[0m\u001b[0;34m\u001b[0m\u001b[0m\n\u001b[0m\u001b[1;32m    126\u001b[0m         \u001b[0mres\u001b[0m \u001b[0;34m=\u001b[0m \u001b[0mconversion\u001b[0m\u001b[0;34m.\u001b[0m\u001b[0mrpy2py\u001b[0m\u001b[0;34m(\u001b[0m\u001b[0mres\u001b[0m\u001b[0;34m)\u001b[0m\u001b[0;34m\u001b[0m\u001b[0;34m\u001b[0m\u001b[0m\n",
            "\u001b[0;32m/usr/local/lib/python3.7/dist-packages/rpy2/rinterface_lib/conversion.py\u001b[0m in \u001b[0;36m_\u001b[0;34m(*args, **kwargs)\u001b[0m\n\u001b[1;32m     44\u001b[0m     \u001b[0;32mdef\u001b[0m \u001b[0m_\u001b[0m\u001b[0;34m(\u001b[0m\u001b[0;34m*\u001b[0m\u001b[0margs\u001b[0m\u001b[0;34m,\u001b[0m \u001b[0;34m**\u001b[0m\u001b[0mkwargs\u001b[0m\u001b[0;34m)\u001b[0m\u001b[0;34m:\u001b[0m\u001b[0;34m\u001b[0m\u001b[0;34m\u001b[0m\u001b[0m\n\u001b[0;32m---> 45\u001b[0;31m         \u001b[0mcdata\u001b[0m \u001b[0;34m=\u001b[0m \u001b[0mfunction\u001b[0m\u001b[0;34m(\u001b[0m\u001b[0;34m*\u001b[0m\u001b[0margs\u001b[0m\u001b[0;34m,\u001b[0m \u001b[0;34m**\u001b[0m\u001b[0mkwargs\u001b[0m\u001b[0;34m)\u001b[0m\u001b[0;34m\u001b[0m\u001b[0;34m\u001b[0m\u001b[0m\n\u001b[0m\u001b[1;32m     46\u001b[0m         \u001b[0;31m# TODO: test cdata is of the expected CType\u001b[0m\u001b[0;34m\u001b[0m\u001b[0;34m\u001b[0m\u001b[0;34m\u001b[0m\u001b[0m\n",
            "\u001b[0;32m/usr/local/lib/python3.7/dist-packages/rpy2/rinterface.py\u001b[0m in \u001b[0;36m__call__\u001b[0;34m(self, *args, **kwargs)\u001b[0m\n\u001b[1;32m    679\u001b[0m             \u001b[0;32mif\u001b[0m \u001b[0merror_occured\u001b[0m\u001b[0;34m[\u001b[0m\u001b[0;36m0\u001b[0m\u001b[0;34m]\u001b[0m\u001b[0;34m:\u001b[0m\u001b[0;34m\u001b[0m\u001b[0;34m\u001b[0m\u001b[0m\n\u001b[0;32m--> 680\u001b[0;31m                 \u001b[0;32mraise\u001b[0m \u001b[0membedded\u001b[0m\u001b[0;34m.\u001b[0m\u001b[0mRRuntimeError\u001b[0m\u001b[0;34m(\u001b[0m\u001b[0m_rinterface\u001b[0m\u001b[0;34m.\u001b[0m\u001b[0m_geterrmessage\u001b[0m\u001b[0;34m(\u001b[0m\u001b[0;34m)\u001b[0m\u001b[0;34m)\u001b[0m\u001b[0;34m\u001b[0m\u001b[0;34m\u001b[0m\u001b[0m\n\u001b[0m\u001b[1;32m    681\u001b[0m         \u001b[0;32mreturn\u001b[0m \u001b[0mres\u001b[0m\u001b[0;34m\u001b[0m\u001b[0;34m\u001b[0m\u001b[0m\n",
            "\u001b[0;31mRRuntimeError\u001b[0m: Error in make.names(col.names, unique = TRUE) : \n  invalid multibyte string at '<b3><aa><c0><cc>'\n",
            "\nDuring handling of the above exception, another exception occurred:\n",
            "\u001b[0;31mRInterpreterError\u001b[0m                         Traceback (most recent call last)",
            "\u001b[0;32m<ipython-input-143-17fcdcd663a8>\u001b[0m in \u001b[0;36m<module>\u001b[0;34m()\u001b[0m\n\u001b[0;32m----> 1\u001b[0;31m \u001b[0mget_ipython\u001b[0m\u001b[0;34m(\u001b[0m\u001b[0;34m)\u001b[0m\u001b[0;34m.\u001b[0m\u001b[0mrun_cell_magic\u001b[0m\u001b[0;34m(\u001b[0m\u001b[0;34m'R'\u001b[0m\u001b[0;34m,\u001b[0m \u001b[0;34m''\u001b[0m\u001b[0;34m,\u001b[0m \u001b[0;34m'#tapply활용\\ndflist<-read.table(\"/content/drive/MyDrive/인턴십공부/R/passlist.txt\", encoding=\\'utf-8\\', header=TRUE)\\ndflist\\ntapply(dflist$나이,dflist$성별,mean,simplify=FALSE)'\u001b[0m\u001b[0;34m)\u001b[0m\u001b[0;34m\u001b[0m\u001b[0;34m\u001b[0m\u001b[0m\n\u001b[0m",
            "\u001b[0;32m/usr/local/lib/python3.7/dist-packages/IPython/core/interactiveshell.py\u001b[0m in \u001b[0;36mrun_cell_magic\u001b[0;34m(self, magic_name, line, cell)\u001b[0m\n\u001b[1;32m   2115\u001b[0m             \u001b[0mmagic_arg_s\u001b[0m \u001b[0;34m=\u001b[0m \u001b[0mself\u001b[0m\u001b[0;34m.\u001b[0m\u001b[0mvar_expand\u001b[0m\u001b[0;34m(\u001b[0m\u001b[0mline\u001b[0m\u001b[0;34m,\u001b[0m \u001b[0mstack_depth\u001b[0m\u001b[0;34m)\u001b[0m\u001b[0;34m\u001b[0m\u001b[0;34m\u001b[0m\u001b[0m\n\u001b[1;32m   2116\u001b[0m             \u001b[0;32mwith\u001b[0m \u001b[0mself\u001b[0m\u001b[0;34m.\u001b[0m\u001b[0mbuiltin_trap\u001b[0m\u001b[0;34m:\u001b[0m\u001b[0;34m\u001b[0m\u001b[0;34m\u001b[0m\u001b[0m\n\u001b[0;32m-> 2117\u001b[0;31m                 \u001b[0mresult\u001b[0m \u001b[0;34m=\u001b[0m \u001b[0mfn\u001b[0m\u001b[0;34m(\u001b[0m\u001b[0mmagic_arg_s\u001b[0m\u001b[0;34m,\u001b[0m \u001b[0mcell\u001b[0m\u001b[0;34m)\u001b[0m\u001b[0;34m\u001b[0m\u001b[0;34m\u001b[0m\u001b[0m\n\u001b[0m\u001b[1;32m   2118\u001b[0m             \u001b[0;32mreturn\u001b[0m \u001b[0mresult\u001b[0m\u001b[0;34m\u001b[0m\u001b[0;34m\u001b[0m\u001b[0m\n\u001b[1;32m   2119\u001b[0m \u001b[0;34m\u001b[0m\u001b[0m\n",
            "\u001b[0;32m<decorator-gen-119>\u001b[0m in \u001b[0;36mR\u001b[0;34m(self, line, cell, local_ns)\u001b[0m\n",
            "\u001b[0;32m/usr/local/lib/python3.7/dist-packages/IPython/core/magic.py\u001b[0m in \u001b[0;36m<lambda>\u001b[0;34m(f, *a, **k)\u001b[0m\n\u001b[1;32m    186\u001b[0m     \u001b[0;31m# but it's overkill for just that one bit of state.\u001b[0m\u001b[0;34m\u001b[0m\u001b[0;34m\u001b[0m\u001b[0;34m\u001b[0m\u001b[0m\n\u001b[1;32m    187\u001b[0m     \u001b[0;32mdef\u001b[0m \u001b[0mmagic_deco\u001b[0m\u001b[0;34m(\u001b[0m\u001b[0marg\u001b[0m\u001b[0;34m)\u001b[0m\u001b[0;34m:\u001b[0m\u001b[0;34m\u001b[0m\u001b[0;34m\u001b[0m\u001b[0m\n\u001b[0;32m--> 188\u001b[0;31m         \u001b[0mcall\u001b[0m \u001b[0;34m=\u001b[0m \u001b[0;32mlambda\u001b[0m \u001b[0mf\u001b[0m\u001b[0;34m,\u001b[0m \u001b[0;34m*\u001b[0m\u001b[0ma\u001b[0m\u001b[0;34m,\u001b[0m \u001b[0;34m**\u001b[0m\u001b[0mk\u001b[0m\u001b[0;34m:\u001b[0m \u001b[0mf\u001b[0m\u001b[0;34m(\u001b[0m\u001b[0;34m*\u001b[0m\u001b[0ma\u001b[0m\u001b[0;34m,\u001b[0m \u001b[0;34m**\u001b[0m\u001b[0mk\u001b[0m\u001b[0;34m)\u001b[0m\u001b[0;34m\u001b[0m\u001b[0;34m\u001b[0m\u001b[0m\n\u001b[0m\u001b[1;32m    189\u001b[0m \u001b[0;34m\u001b[0m\u001b[0m\n\u001b[1;32m    190\u001b[0m         \u001b[0;32mif\u001b[0m \u001b[0mcallable\u001b[0m\u001b[0;34m(\u001b[0m\u001b[0marg\u001b[0m\u001b[0;34m)\u001b[0m\u001b[0;34m:\u001b[0m\u001b[0;34m\u001b[0m\u001b[0;34m\u001b[0m\u001b[0m\n",
            "\u001b[0;32m/usr/local/lib/python3.7/dist-packages/rpy2/ipython/rmagic.py\u001b[0m in \u001b[0;36mR\u001b[0;34m(self, line, cell, local_ns)\u001b[0m\n\u001b[1;32m    781\u001b[0m             \u001b[0;32mif\u001b[0m \u001b[0;32mnot\u001b[0m \u001b[0me\u001b[0m\u001b[0;34m.\u001b[0m\u001b[0mstdout\u001b[0m\u001b[0;34m.\u001b[0m\u001b[0mendswith\u001b[0m\u001b[0;34m(\u001b[0m\u001b[0me\u001b[0m\u001b[0;34m.\u001b[0m\u001b[0merr\u001b[0m\u001b[0;34m)\u001b[0m\u001b[0;34m:\u001b[0m\u001b[0;34m\u001b[0m\u001b[0;34m\u001b[0m\u001b[0m\n\u001b[1;32m    782\u001b[0m                 \u001b[0mprint\u001b[0m\u001b[0;34m(\u001b[0m\u001b[0me\u001b[0m\u001b[0;34m.\u001b[0m\u001b[0merr\u001b[0m\u001b[0;34m)\u001b[0m\u001b[0;34m\u001b[0m\u001b[0;34m\u001b[0m\u001b[0m\n\u001b[0;32m--> 783\u001b[0;31m             \u001b[0;32mraise\u001b[0m \u001b[0me\u001b[0m\u001b[0;34m\u001b[0m\u001b[0;34m\u001b[0m\u001b[0m\n\u001b[0m\u001b[1;32m    784\u001b[0m         \u001b[0;32mfinally\u001b[0m\u001b[0;34m:\u001b[0m\u001b[0;34m\u001b[0m\u001b[0;34m\u001b[0m\u001b[0m\n\u001b[1;32m    785\u001b[0m             \u001b[0;32mif\u001b[0m \u001b[0mself\u001b[0m\u001b[0;34m.\u001b[0m\u001b[0mdevice\u001b[0m \u001b[0;32min\u001b[0m \u001b[0;34m[\u001b[0m\u001b[0;34m'png'\u001b[0m\u001b[0;34m,\u001b[0m \u001b[0;34m'svg'\u001b[0m\u001b[0;34m]\u001b[0m\u001b[0;34m:\u001b[0m\u001b[0;34m\u001b[0m\u001b[0;34m\u001b[0m\u001b[0m\n",
            "\u001b[0;32m/usr/local/lib/python3.7/dist-packages/rpy2/ipython/rmagic.py\u001b[0m in \u001b[0;36mR\u001b[0;34m(self, line, cell, local_ns)\u001b[0m\n\u001b[1;32m    761\u001b[0m                     \u001b[0mreturn_output\u001b[0m \u001b[0;34m=\u001b[0m \u001b[0;32mFalse\u001b[0m\u001b[0;34m\u001b[0m\u001b[0;34m\u001b[0m\u001b[0m\n\u001b[1;32m    762\u001b[0m             \u001b[0;32melse\u001b[0m\u001b[0;34m:\u001b[0m\u001b[0;34m\u001b[0m\u001b[0;34m\u001b[0m\u001b[0m\n\u001b[0;32m--> 763\u001b[0;31m                 \u001b[0mtext_result\u001b[0m\u001b[0;34m,\u001b[0m \u001b[0mresult\u001b[0m\u001b[0;34m,\u001b[0m \u001b[0mvisible\u001b[0m \u001b[0;34m=\u001b[0m \u001b[0mself\u001b[0m\u001b[0;34m.\u001b[0m\u001b[0meval\u001b[0m\u001b[0;34m(\u001b[0m\u001b[0mcode\u001b[0m\u001b[0;34m)\u001b[0m\u001b[0;34m\u001b[0m\u001b[0;34m\u001b[0m\u001b[0m\n\u001b[0m\u001b[1;32m    764\u001b[0m                 \u001b[0mtext_output\u001b[0m \u001b[0;34m+=\u001b[0m \u001b[0mtext_result\u001b[0m\u001b[0;34m\u001b[0m\u001b[0;34m\u001b[0m\u001b[0m\n\u001b[1;32m    765\u001b[0m                 \u001b[0;32mif\u001b[0m \u001b[0mvisible\u001b[0m\u001b[0;34m:\u001b[0m\u001b[0;34m\u001b[0m\u001b[0;34m\u001b[0m\u001b[0m\n",
            "\u001b[0;32m/usr/local/lib/python3.7/dist-packages/rpy2/ipython/rmagic.py\u001b[0m in \u001b[0;36meval\u001b[0;34m(self, code)\u001b[0m\n\u001b[1;32m    271\u001b[0m                 \u001b[0mwarning_or_other_msg\u001b[0m \u001b[0;34m=\u001b[0m \u001b[0mself\u001b[0m\u001b[0;34m.\u001b[0m\u001b[0mflush\u001b[0m\u001b[0;34m(\u001b[0m\u001b[0;34m)\u001b[0m\u001b[0;34m\u001b[0m\u001b[0;34m\u001b[0m\u001b[0m\n\u001b[1;32m    272\u001b[0m                 raise RInterpreterError(code, str(exception),\n\u001b[0;32m--> 273\u001b[0;31m                                         warning_or_other_msg)\n\u001b[0m\u001b[1;32m    274\u001b[0m             \u001b[0mtext_output\u001b[0m \u001b[0;34m=\u001b[0m \u001b[0mself\u001b[0m\u001b[0;34m.\u001b[0m\u001b[0mflush\u001b[0m\u001b[0;34m(\u001b[0m\u001b[0;34m)\u001b[0m\u001b[0;34m\u001b[0m\u001b[0;34m\u001b[0m\u001b[0m\n\u001b[1;32m    275\u001b[0m             \u001b[0;32mreturn\u001b[0m \u001b[0mtext_output\u001b[0m\u001b[0;34m,\u001b[0m \u001b[0mvalue\u001b[0m\u001b[0;34m,\u001b[0m \u001b[0mvisible\u001b[0m\u001b[0;34m[\u001b[0m\u001b[0;36m0\u001b[0m\u001b[0;34m]\u001b[0m\u001b[0;34m\u001b[0m\u001b[0;34m\u001b[0m\u001b[0m\n",
            "\u001b[0;31mRInterpreterError\u001b[0m: Failed to parse and evaluate line '#tapply활용\\ndflist<-read.table(\"/content/drive/MyDrive/인턴십공부/R/passlist.txt\", encoding=\\'utf-8\\', header=TRUE)\\ndflist\\ntapply(dflist$나이,dflist$성별,mean,simplify=FALSE)'.\nR error message: \"Error in make.names(col.names, unique = TRUE) : \\n  invalid multibyte string at '<b3><aa><c0><cc>'\""
          ]
        }
      ]
    },
    {
      "cell_type": "markdown",
      "metadata": {
        "id": "4ctAiXfOLhBc"
      },
      "source": [
        "#함수"
      ]
    },
    {
      "cell_type": "code",
      "metadata": {
        "colab": {
          "base_uri": "https://localhost:8080/"
        },
        "id": "FuvhyxUv-ZSH",
        "outputId": "c6b29960-425c-415c-dc5e-1931f31ba5e3"
      },
      "source": [
        "\n",
        "%%R\n",
        "#사용자정의함수-1\n",
        "guideinfo<-function(msg){\n",
        "writeLines(msg)\n",
        "}\n",
        "guideinfo(\"나도 배운다\")\n",
        "guideinfo(\"r을 배워요^^\")"
      ],
      "execution_count": null,
      "outputs": [
        {
          "output_type": "stream",
          "text": [
            "나도 배운다\n",
            "r을 배워요^^\n"
          ],
          "name": "stdout"
        }
      ]
    },
    {
      "cell_type": "code",
      "metadata": {
        "colab": {
          "base_uri": "https://localhost:8080/"
        },
        "id": "wiP6q5lv-X35",
        "outputId": "fbad8f4e-4bc2-42e0-bf41-5bff7ec0f8b8"
      },
      "source": [
        "%%R\n",
        "#사용자정의함수-2\n",
        "basicst<-function(x){\n",
        "amin<-min(x)\n",
        "amax<-max(x)\n",
        "amean<-mean(x)\n",
        "avar<-var(x)\n",
        "astd<-sd(x)\n",
        "totinfo<-list(최소값=amin,최대값=amax,평균=amean,분산=avar,표준편차=astd)\n",
        "return(totinfo)\n",
        "}\n",
        "a<-c(68,75,80,85,45,70,95,55)\n",
        "basicst(a)\n",
        "b<-c(66,75,35,55)\n",
        "basicst(b)"
      ],
      "execution_count": null,
      "outputs": [
        {
          "output_type": "stream",
          "text": [
            "$최소값\n",
            "[1] 35\n",
            "\n",
            "$최대값\n",
            "[1] 75\n",
            "\n",
            "$평균\n",
            "[1] 57.75\n",
            "\n",
            "$분산\n",
            "[1] 296.9167\n",
            "\n",
            "$표준편차\n",
            "[1] 17.23127\n",
            "\n"
          ],
          "name": "stdout"
        }
      ]
    },
    {
      "cell_type": "code",
      "metadata": {
        "id": "gIH2hTTq-V3O"
      },
      "source": [
        "%%R\n",
        "#사용자정의함수-3\n",
        "source(\"d:\\\\r1\\\\calc.txt\")\n",
        "a<-c(35,77,155,50,67)\n",
        "calc(a)"
      ],
      "execution_count": null,
      "outputs": []
    },
    {
      "cell_type": "markdown",
      "metadata": {
        "id": "gjQHn4Ht-VgP"
      },
      "source": [
        "#외부파일 읽어오기"
      ]
    },
    {
      "cell_type": "code",
      "metadata": {
        "colab": {
          "base_uri": "https://localhost:8080/"
        },
        "id": "jj8NKQNKNAnp",
        "outputId": "de72872d-538a-48dc-dd19-f2dbd8e04be6"
      },
      "source": [
        "%%R\n",
        "#scan사용\n",
        "setwd(\"/content/drive/MyDrive/인턴십공부/R/\")\n",
        "a<-scan(\"irum.txt\",what='char',sep=\",\", encoding='utf-8')\n",
        "a\n",
        "\n",
        "#x<-scan()"
      ],
      "execution_count": null,
      "outputs": [
        {
          "output_type": "stream",
          "text": [
            "R[write to console]: Read 6 items\n",
            "\n"
          ],
          "name": "stderr"
        },
        {
          "output_type": "stream",
          "text": [
            "[1] \"홍길동\" \"손영문\" \"조재희\" \"하철중\" \"국만봉\" \"하명순\"\n"
          ],
          "name": "stdout"
        }
      ]
    },
    {
      "cell_type": "code",
      "metadata": {
        "colab": {
          "base_uri": "https://localhost:8080/"
        },
        "id": "FrcNwT52LtnT",
        "outputId": "8b5a5c29-9831-493a-ebba-b012000621cc"
      },
      "source": [
        "%%R\n",
        "#readLines함수\n",
        "data<-readLines(\"consumer.txt\", encoding='utf-8')\n",
        "data"
      ],
      "execution_count": null,
      "outputs": [
        {
          "output_type": "stream",
          "text": [
            "  [1] \"423 자동차정비, 수리불량·부당수리비 청구 등 소비자불만 많아 2016-04-01 482\"                   \n",
            "  [2] \"422 쁘띠 성형시술 후 염증·눈꺼풀 처짐 등 부작용 호소 많아  2016-02-02 3226\"                   \n",
            "  [3] \"421 방수팩 사용 관련 피해예방 주의보 2015-09-18 5650\"                                         \n",
            "  [4] \"420 안과 관련 소비자피해, ‘백내장’등 노인성 질환 부작용 많아 2015-09-04 7683\"                 \n",
            "  [5] \"419 해외구매대행 인터넷쇼핑몰 피해 주의 2015-08-28 7162\"                                      \n",
            "  [6] \"418 해외구매대행 인터넷쇼핑몰 피해 주의 2015-08-25 5693\"                                      \n",
            "  [7] \"417 세탁소에서 훼손된 세탁물 10건 중 3건은 품질 하자가 원인 2015-08-13 4466\"                  \n",
            "  [8] \"416 여름 휴가철 렌터카 이용 시 소비자피해 주의 하세요 ! 2015-08-11 4354\"                      \n",
            "  [9] \"415 자동차 세차 시 차량 손상 주의 하세요! 2015-07-10 4919\"                                    \n",
            " [10] \"414 콘도회원권 판매 상술 갈수록 지능화되고 있어 주의 요망 2015-05-22 6675\"                    \n",
            " [11] \"413 피부관리서비스 무료 체험을 빙자한 화장품 판매 피해 지속적 발생 2015-05-19 5763\"           \n",
            " [12] \"412 어버이날 앞두고 알뜰폰 구매 피해주의보 발령, 전체 피해자 60%가 60대 이상 2015-05-06 7283\" \n",
            " [13] \"411 치아보험 관련 소비자피해 매년 증가 2015-04-29 6988\"                                       \n",
            " [14] \"410 중고차 성능점검 내용이 실제 차량 상태와 다른 경우 많아 2015-04-22 8486\"                   \n",
            " [15] \"409 암 오진 중 폐암 오진 피해 가장 많아 2015-04-20 6950\"                                      \n",
            " [16] \"408 온라인으로 구매한 가구 피해비율 매년 상승 2015-04-01 6542\"                                \n",
            " [17] \"407 차량용 블랙박스 ‘무료장착’ 빙자한 얌체상술 주의! 2015-03-06 9268\"                         \n",
            " [18] \"406 인터넷교육서비스 소비자 피해예방주의보 2015-02-11 5939\"                                   \n",
            " [19] \"405 눈·코 성형수술, ‘비대칭’ 부작용 많아 2015-02-10 7961\"                                     \n",
            " [20] \"404 동양웨딩앤허니문 소비자피해 발생 및 유의사항 안내 2015-01-12 6139\"                        \n",
            " [21] \"403 이사화물서비스 소비자피해예방주의보 2014-11-26 7991\"                                      \n",
            " [22] \"402 국내 결혼중개 관련 소비자피해, 2건 중 1건은 불성실 소개 2014-11-13 8514\"                  \n",
            " [23] \"401 매년 증가하는 항공서비스 피해, 10건 중 7건은 외국 항공사 피해 2014-11-06 5433\"            \n",
            " [24] \"400 게임서비스, 미성년자 결제 취소 관련 불만 많아 2014-10-14 5856\"                            \n",
            " [25] \"399 통신판매업체 ‘㈜나이스전자’ 배송중단 피해 다발 2014-10-14 4242\"                           \n",
            " [26] \"398 가을철 중고차 구입 시 ‘침수’ 여부 꼼꼼히 살펴봐야 2014-10-13 3770\"                        \n",
            " [27] \"397 ‘콘서트 등 공연관람 소비자 피해 주의’ 경보발령 2014-10-02 4290\"                           \n",
            " [28] \"396 한가위 추석명절, 자동차 견인시 ‘신고된 운임·요금’을 꼭 확인하세요 ! 2014-08-26  3373\"     \n",
            " [29] \"395 피부 미용시술, 피부과 전문의 설명 충분히 듣고 계약하세요! 2014-08-19 5417\"                \n",
            " [30] \"394 과도한 할인·사은품 현혹 장기 계속거래 계약 주의 2014-08-11 3941\"                          \n",
            " [31] \"393 렌터카, 약관은 물론 차량 상태 꼭 확인하고 계약하세요 ! 2014-08-01 3655\"                   \n",
            " [32] \"392 펜션 계약시 환불규정 반드시 확인하세요! 2014-07-14 18424\"                                 \n",
            " [33] \"391 호텔예약 대행사이트 소비자피해 주의하세요 2014-07-11 4121\"                                \n",
            " [34] \"390 반려동물, 폐사·질병 관련 소비자피해 많지만 보상받기는 어려워 2014-06-18 4199\"             \n",
            " [35] \"389 의류·신발 인터넷쇼핑몰 판매사업자 청약철회 거부로 피해 심각 2014-06-10 4805\"              \n",
            " [36] \"388 무료 콘도회원권 당첨·홍보대사 선정 전화 조심하세요 2014-06-10 5688\"                       \n",
            " [37] \"387 헬스·피트니스 계약 시 환불규정 주의해야 2014-06-03 8752\"                                  \n",
            " [38] \"386 신혼여행 계약 시 특약 사항 꼼꼼히 확인하세요 2014-05-26 3561\"                             \n",
            " [39] \"385 신문 광고 통신판매 업체 ‘애드컴코리아’ 소비자 피해주의 2014-05-19 3218\"                   \n",
            " [40] \"384 휴대폰 소액결제 피해, 매년 2배 이상 증가!! 2014-05-14 4318\"                               \n",
            " [41] \"383 알뜰폰 어르신 가입 시 계약조건 꼼꼼히 확인하세요! 2014-05-13 4199\"                        \n",
            " [42] \"382 결혼정보업체 소비자 피해주의 2014-04-21 4484\"                                             \n",
            " [43] \"381 무료 아닌 무료촬영권, 아기성장앨범 계약 주의해야 2014-04-15 5030\"                         \n",
            " [44] \"380 세탁소에 맡긴 후 손상되고 분실 잦아 2014-04-14 3662\"                                      \n",
            " [45] \"379 인테리어·설비 공사 하자 발생에 대한 사후보증 받기 어려워 2014-03-28 6922\"                 \n",
            " [46] \"378 자동차 정비 관련 소비자 피해 매년 200건 이상 발생 2014-03-25 4505\"                        \n",
            " [47] \"377 예식장, 소비자의 계약금 환급 요청 모르쇠로 일관 2014-03-20 4145\"                          \n",
            " [48] \"376 외국계 저비용항공 관련 소비자 피해 급증 2014-02-28 3957\"                                  \n",
            " [49] \"375 해외연수, 계약해제 쉽지 않고 실제 연수 내용도 달라 2014-02-20 3116\"                       \n",
            " [50] \"374 돌잔치, 일단 계약하면 2개월 전에도 해약하기 어려워 2014-02-14 4498\"                       \n",
            " [51] \"373 의류.신발 등 품질하자 46.2% 달해 2014-02-10 4389\"                                         \n",
            " [52] \"372 ‘계약해제·해지 거절’, ‘품질·A/S' 피해가 각각 37.9%로 가장 많아 2013-12-31 4552\"           \n",
            " [53] \"371 이사피해, 10건중 7건은 이삿짐 훼손·파손 피해 2013-12-31 4445\"                             \n",
            " [54] \"370 결혼 예식·준비대행 서비스 계약해제 어려워 2013-12-31 3510\"                                \n",
            " [55] \"369 다단계판매 피해 상담, 최근 3년 새 두 배 이상 증가 2013-12-31 3433\"                        \n",
            " [56] \"368 성형수술 소비자상담, ‘계약해제·해지 거절’ 불만이 29.3%로 가장 많아 2013-12-31 3621\"       \n",
            " [57] \"367 부울경, 대부(업)대출 관련 소비자상담 매년 꾸준히 발생 2013-12-31 2546\"                    \n",
            " [58] \"366 추석 명절, 전자상거래 소비자피해 주의보 2013-12-24 3734\"                                  \n",
            " [59] \"365 강원도, 고령소비자 피해, 지역별 순위 3위로 많아 2013-12-23 2683\"                          \n",
            " [60] \"364 강원지역 중고자동차, 성능·상태점검기록부와 다르다는 불만 많아 2013-12-23 4832\"            \n",
            " [61] \"363 저가 콘도회원권 관련 소비자피해 꾸준히 발생 2013-12-23 2919\"                              \n",
            " [62] \"362 모바일게임, 부모 동의 없는 미성년자 결제 피해 많아 2013-12-10 4524\"                       \n",
            " [63] \"361 상조서비스업체, 소비자피해에 나 몰라라 2013-12-09 3578\"                                   \n",
            " [64] \"360 인터넷교육서비스 중도해지 시, 과다 위약금 청구 피해 많아 2013-12-05 3394\"                 \n",
            " [65] \"359 중고차 성능·상태점검기록부, 실제 차량과 달라 피해 빈발 2013-12-05 4357\"                   \n",
            " [66] \"358 2012년 호남ㆍ제주지역 방문판매 관련 피해 33.8% 증가 2013-12-05 2400\"                      \n",
            " [67] \"357 포장이사 서비스 업체, 60% 이상은 소비자 피해에 '모르쇠' 2013-11-27 3799\"                  \n",
            " [68] \"356 전기장판 화재·화상 주의하세요! 2013-11-21 4141\"                                           \n",
            " [69] \"355 해외 구매 대행으로 제품 구입 시 주의하세요 2013-11-14 5177\"                               \n",
            " [70] \"354 품질불량·계약불이행 등 가구 관련 소비자피해 심각! 2013-11-13 4581\"                        \n",
            " [71] \"353 대전·충청지역 휴대폰 소액결제, 사용하지 않은 요금 결제 피해 많아 2013-11-05 3661\"         \n",
            " [72] \"352 초고속인터넷서비스, 해지처리 누락 피해 가장 많아 2013-11-04 4828\"                         \n",
            " [73] \"351 암보험, 보험금지급 관련 분쟁 90% 이상 2013-10-30 7141\"                                    \n",
            " [74] \"350 치과분쟁 임플란트가 가장 많아 2013-10-29 5091\"                                            \n",
            " [75] \"349 운동화 품질하자 등 '내구성 불량'이 80.2%로 가장 많아 2013-10-02 7209\"                     \n",
            " [76] \"348 침수 중고 자동차 소비자 상담 매년 증가 2013-09-17 5428\"                                   \n",
            " [77] \"347 택배 불만, '케이지옐로우캡', 'KGB택배' 순으로 높아 2013-09-09 8311\"                       \n",
            " [78] \"346 남성용 성기능 향상기기, 무허가 제품 주의하세요! 2013-09-05 6694\"                          \n",
            " [79] \"345 콘텐츠이용사이트, 회원 가입 빙자한 유료결제 피해 급증 2013-08-27 5336\"                    \n",
            " [80] \"344 외국계 항공사 소비자피해 전년 대비 큰 폭 증가! 2013-08-20 5854\"                           \n",
            " [81] \"343 대전 충청지역 해외여행 관련 소비자 피해 증가 2013-08-02 4912\"                             \n",
            " [82] \"342 차량 렌트시 주의하세요 2013-07-25 9007\"                                                   \n",
            " [83] \"341 휴대폰 보조금 지원 약정 불이행 피해 주의 2013-07-23 7660\"                                 \n",
            " [84] \"340 “에어컨 설치시 주의하세요” 2013-07-23 7897\"                                               \n",
            " [85] \"339 시계 구매시 주의하세요! 2013-07-19 6810\"                                                  \n",
            " [86] \"338 해외여행 시 스마트폰 데이터로밍요금 폭탄 주의 2013-07-17 7507\"                            \n",
            " [87] \"337 수백만원 대의 피부관리서비스, 정작 소비자관리는 엉망 2013-07-16 5125\"                     \n",
            " [88] \"336 인터넷쇼핑몰 사업자의 청약철회 부당 거부로 인한 소비자피해 심각! 2013-07-12 6397\"         \n",
            " [89] \"335 (주)한영관광개발 계약시 주의하세요! 2013-07-10 5349\"                                      \n",
            " [90] \"334 프라임 에듀케이션(중고생 대상 과외 중개업체) 계약시 주의하세요! 2013-07-05 4222\"          \n",
            " [91] \"333 요가 이용 관련 소비자피해 주의! 2013-07-02 4649\"                                          \n",
            " [92] \"332 대출받으려다 이동전화 요금폭탄 맞아 2013-06-26 4152\"                                      \n",
            " [93] \"331 렌탈정수기 계약시 주의하세요! 2013-06-24 7984\"                                            \n",
            " [94] \"330 고령 소비자 피해상담, 전년 대비 약 40% 증가 2013-06-13 4315\"                              \n",
            " [95] \"329 예식장 및 결혼준비대행업자의 계약해제 거절 피해 주의 2013-05-27 5495\"                     \n",
            " [96] \"328 무료체험 빙자한 건강식품 얌체상술 극성 2013-05-16 4230\"                                   \n",
            " [97] \"327 연기ㆍ모델학원 계약 관련 소비자 피해 주의 2013-05-08 4667\"                                \n",
            " [98] \"326 세탁물분실 2건중 1건, 세탁업자 나 몰라라! 세탁의뢰시 인수증 꼭 받아두세요 2013-04-22 6941\"\n",
            " [99] \"325 등산화 품질불량이 78.8%를 차지 2013-03-29 10751\"                                          \n",
            "[100] \"324 성형수술 계약금 미반환 사례 급증, 소비자 주의 요망! 2013-03-27 10980\"                     \n",
            "[101] \"323 명품유사 짝퉁 판매 쇼핑몰 ‘럭스신디’ 주의 요망 2013-03-15 13299\"                          \n"
          ],
          "name": "stdout"
        }
      ]
    },
    {
      "cell_type": "code",
      "metadata": {
        "colab": {
          "base_uri": "https://localhost:8080/"
        },
        "id": "OGUviJ7yLtgJ",
        "outputId": "6564edea-486e-4325-fd02-e4e2e1a7abfd"
      },
      "source": [
        "%%R\n",
        "#read.csv함수\n",
        "data<-read.csv('seoulpopulation.csv',header=TRUE)\n",
        "data\n"
      ],
      "execution_count": null,
      "outputs": [
        {
          "output_type": "stream",
          "text": [
            "     자치구   남자   여자\n",
            "1    종로구  80531  83291\n",
            "2      중구  66755  67574\n",
            "3    용산구 121027 126882\n",
            "4    성동구 151459 153606\n",
            "5    광진구 183436 191744\n",
            "6  동대문구 185827 187997\n",
            "7    중랑구 208393 210227\n",
            "8    성북구 229183 240377\n",
            "9    강북구 164337 170089\n",
            "10   도봉구 173804 179437\n",
            "11   노원구 281538 296683\n",
            "12   은평구 244964 257614\n",
            "13 서대문구 156130 166975\n",
            "14   마포구 190957 207394\n",
            "15   양천구 242074 246936\n",
            "16   강서구 291216 304475\n",
            "17   구로구 228201 226403\n",
            "18   금천구 131346 124821\n",
            "19 영등포구 210388 207423\n",
            "20   동작구 202165 210609\n",
            "21   관악구 266773 262258\n",
            "22   서초구 217036 234222\n",
            "23   강남구 279209 302551\n",
            "24   송파구 325950 341530\n",
            "25   강동구 230851 232470\n"
          ],
          "name": "stdout"
        }
      ]
    },
    {
      "cell_type": "code",
      "metadata": {
        "id": "PDVZ0VcmLtZj"
      },
      "source": [
        "%%R\n",
        "#XLConnect패키지\n",
        "install.packages(\"XLConnect\")\n",
        "require(XLConnect)\n",
        "wb<-loadWorkbook(\"subway.xlsx\")\n",
        "df<-readWorksheet(wb,sheet=1,header=TRUE,startRow=20,endRow=47)\n",
        "df\n",
        "names(df)<-c(\"구분\",\"역이름\",\"1월이용자\",\"2월이용자\",\"3월이용자\",\"합\",\"1일평균\")\n",
        "df"
      ],
      "execution_count": null,
      "outputs": []
    },
    {
      "cell_type": "code",
      "metadata": {
        "id": "PYl69-oaLtUB"
      },
      "source": [
        "%%R\n",
        "#XLSX패키지 \n",
        "install.packages(\"xlsx\")\n",
        "require(xlsx)\n",
        "df2<-read.xlsx2(\"subway.xlsx\",1)\n",
        "df2"
      ],
      "execution_count": null,
      "outputs": []
    },
    {
      "cell_type": "code",
      "metadata": {
        "id": "S3b59mogLs4D"
      },
      "source": [
        "%%R\n",
        "#clipboard\n",
        "a<-readClipboard()\n",
        "a"
      ],
      "execution_count": null,
      "outputs": []
    },
    {
      "cell_type": "markdown",
      "metadata": {
        "id": "kNRj4K26OA9Q"
      },
      "source": [
        "#그래프"
      ]
    },
    {
      "cell_type": "code",
      "metadata": {
        "colab": {
          "base_uri": "https://localhost:8080/",
          "height": 497
        },
        "id": "rhf2N7dqN8s-",
        "outputId": "e8b3a3fe-aca7-43cf-c6d6-b729f7e251de"
      },
      "source": [
        "%%R\n",
        "#그래프 기본-1\n",
        "plot.new()\n",
        "age<-c(24,36,40,42,27,35,55,48)\n",
        "plot(age,main=\"나이분포\",ylab=\"나이\",col=\"red\")"
      ],
      "execution_count": null,
      "outputs": [
        {
          "output_type": "display_data",
          "data": {
            "image/png": "[encoded data removed]"
          },
          "metadata": {
            "tags": []
          }
        }
      ]
    },
    {
      "cell_type": "code",
      "metadata": {
        "colab": {
          "base_uri": "https://localhost:8080/",
          "height": 497
        },
        "id": "Ynl_6cFQSgLd",
        "outputId": "596c7469-13f3-440b-93a5-fb45866f6a2e"
      },
      "source": [
        "%%R\n",
        "#그래프 기본-2\n",
        "plot.new()\n",
        "height<-c(165,170,177,167,180,172,169,179)\n",
        "weight<-c(70,73,62,80,85,74,75,68)\n",
        "plot(weight,height,main=\"키와 몸무게 분포\",type='b',xlab=\"체중\",ylab=\"키\",col=rainbow(length(height)))"
      ],
      "execution_count": null,
      "outputs": [
        {
          "output_type": "display_data",
          "data": {
            "image/png": "[encoded data removed]"
          },
          "metadata": {
            "tags": []
          }
        }
      ]
    },
    {
      "cell_type": "code",
      "metadata": {
        "colab": {
          "base_uri": "https://localhost:8080/",
          "height": 497
        },
        "id": "ummDFsiMSgBb",
        "outputId": "95045094-6d41-4da5-9d11-ddd3a4af7910"
      },
      "source": [
        "%%R\n",
        "#그래프 기본-3\n",
        "plot.new()\n",
        "x<-1:5\n",
        "y<-x\n",
        "par(mfrow=c(2,3))\n",
        "par(pch=18)\n",
        "kind=c('p','b','l','o','s','h')\n",
        "for(i in 1:length(kind)) {\n",
        "title<-paste(\"type=\",kind[i])\n",
        "plot(x,y,type=kind[i],main=title,col=rainbow(8))\n",
        "}"
      ],
      "execution_count": null,
      "outputs": [
        {
          "output_type": "display_data",
          "data": {
            "image/png": "[encoded data removed]"
          },
          "metadata": {
            "tags": []
          }
        }
      ]
    },
    {
      "cell_type": "code",
      "metadata": {
        "colab": {
          "base_uri": "https://localhost:8080/",
          "height": 497
        },
        "id": "6zFoUY8YSf5B",
        "outputId": "82402e27-1718-4b4d-dfaf-dbbb483235ce"
      },
      "source": [
        "%%R\n",
        "#그래프 기본-4\n",
        "plot.new()\n",
        "x<-1:5\n",
        "y<-x\n",
        "plot(x,y,main=\"sample\")\n",
        "abline(h=c(1:5),col=\"red\",lty=\"dotted\")\n",
        "text(3,3,\"기본점\")"
      ],
      "execution_count": null,
      "outputs": [
        {
          "output_type": "display_data",
          "data": {
            "image/png": "[encoded data removed]"
          },
          "metadata": {
            "tags": []
          }
        }
      ]
    },
    {
      "cell_type": "code",
      "metadata": {
        "colab": {
          "base_uri": "https://localhost:8080/",
          "height": 497
        },
        "id": "1s13PkjnSfCp",
        "outputId": "a76bdb89-3030-4fd4-ddc2-fc81af8fcdf0"
      },
      "source": [
        "%%R\n",
        "#그래프 기본-5\n",
        "plot.new()\n",
        "height<-c(165,170,177,167,180,172,169,179)\n",
        "weight<-c(70,73,62,80,85,74,75,68)\n",
        "irum<-c('김','박','최','신','정','문','오','추')\n",
        "plot(weight,height,main=\"키와 몸무게 분포\",type='o',pch=18,xlab=\"체중\",ylab=\"키\",col=rainbow(length(height)))\n",
        "abline(h=seq(165,180,5),col=\"gray\",lty=2)\n",
        "text(73,174,\"표준\",col=\"brown\")\n",
        "#axis(2,at=height,labels=height,col.axis=\"gray\")\n",
        "legend(\"bottomright\",col=rainbow(length(height)),legend=irum,lty=1)"
      ],
      "execution_count": null,
      "outputs": [
        {
          "output_type": "display_data",
          "data": {
            "image/png": "[encoded data removed]"
          },
          "metadata": {
            "tags": []
          }
        }
      ]
    },
    {
      "cell_type": "code",
      "metadata": {
        "colab": {
          "base_uri": "https://localhost:8080/",
          "height": 497
        },
        "id": "Rie6ISddOF6z",
        "outputId": "a1c2a233-9172-452c-d904-5670c1839beb"
      },
      "source": [
        "%%R\n",
        "plot.new()\n",
        "y1<-c(0.8,0.5,0.4,0.4,0.5,0.7)\n",
        "y2<-c(0.8,1.3,1.0,1.3,0.9,1.2)\n",
        "x<-c(1:6)\n",
        "par(new=TRUE)\n",
        "plot(x,y1,ylab=\"소비자물가상승률\",type=\"o\",col=\"red\",ylim=c(0.3,1.5))\n",
        "par(new=TRUE)\n",
        "plot(x,y2,lty=\"dotted\",ylab=\"소비자물가상승률\",type=\"l\",col=\"blue\",ylim=c(0.3,1.5))\n",
        "#legend(locator(1),legend=c('2015년','2016년'),lty=1,bg=\"yellow\",col=c('red','blue'))"
      ],
      "execution_count": null,
      "outputs": [
        {
          "output_type": "display_data",
          "data": {
            "image/png": "[encoded data removed]"
          },
          "metadata": {
            "tags": []
          }
        }
      ]
    },
    {
      "cell_type": "code",
      "metadata": {
        "colab": {
          "base_uri": "https://localhost:8080/",
          "height": 497
        },
        "id": "vO7-yRhsS0sW",
        "outputId": "fbd15b1e-0ecd-4e50-a493-07161f64ae96"
      },
      "source": [
        "%%R\n",
        "#막대기본-1\n",
        "plot.new()\n",
        "x<-c(100,200,300,350,500)\n",
        "barplot(x,name=c('a','b','c','d','e'),las=1,col='yellow',ylim=c(100,600))"
      ],
      "execution_count": null,
      "outputs": [
        {
          "output_type": "display_data",
          "data": {
            "image/png": "[encoded data removed]"
          },
          "metadata": {
            "tags": []
          }
        }
      ]
    },
    {
      "cell_type": "code",
      "metadata": {
        "colab": {
          "base_uri": "https://localhost:8080/",
          "height": 497
        },
        "id": "WfR5j3YBSxFp",
        "outputId": "07901949-3104-433f-d5e5-c80c5d5e873f"
      },
      "source": [
        "%%R\n",
        "#막대그래프-응용1\n",
        "data<-read.csv(\"seoulpopulation.csv\",sep=\",\",header=TRUE)\n",
        "data\n",
        "data1<-subset(data,남자>=230000)\n",
        "data1\n",
        "gu<-data1$자치구\n",
        "barplot(data1$남자,names=gu,las=1,col=\"darkgreen\",horiz=TRUE,\n",
        "main=\"서울 남성23만명 이상 거주 자치구\")"
      ],
      "execution_count": null,
      "outputs": [
        {
          "output_type": "display_data",
          "data": {
            "image/png": "[encoded data removed]"
          },
          "metadata": {
            "tags": []
          }
        }
      ]
    },
    {
      "cell_type": "code",
      "metadata": {
        "colab": {
          "base_uri": "https://localhost:8080/",
          "height": 497
        },
        "id": "nLS0pNIySvH2",
        "outputId": "3134effa-b3dc-4ee5-ce1c-db1cfe1ccf7e"
      },
      "source": [
        "%%R\n",
        "#막대그래프-응용2\n",
        "plot.new()\n",
        "data<-read.csv(\"seoulpopulation.csv\",sep=\",\",header=TRUE)\n",
        "data\n",
        "tot<-rowSums(data[,c('남자','여자')],na.rm=TRUE)\n",
        "data<-cbind(data,tot)\n",
        "data\n",
        "data1<-subset(data,tot>=500000)\n",
        "data1\n",
        "barplot(as.matrix(data1[1:6,2:3]),legend=c('남','여'),beside=TRUE,las=1,col=c(\"darkgreen\",\"pink\"),\n",
        "main=\"인구50만 이상 성별현황\",ylim=c(0,400000))"
      ],
      "execution_count": null,
      "outputs": [
        {
          "output_type": "display_data",
          "data": {
            "image/png": "[encoded data removed]"
          },
          "metadata": {
            "tags": []
          }
        }
      ]
    },
    {
      "cell_type": "code",
      "metadata": {
        "colab": {
          "base_uri": "https://localhost:8080/",
          "height": 497
        },
        "id": "n6zPLjnMSsJE",
        "outputId": "bec583f3-c3a5-4739-cc05-51f7a563159b"
      },
      "source": [
        "%%R\n",
        "#히스토그램\n",
        "plot.new()\n",
        "x<-c(23,33,32,45,37,28,15,35,43,27,46,33,38,46,50,25)\n",
        "hist(x,main=\"연령분포\",xlim=c(15,50),col=\"pink\")"
      ],
      "execution_count": null,
      "outputs": [
        {
          "output_type": "display_data",
          "data": {
            "image/png": "[encoded data removed]"
          },
          "metadata": {
            "tags": []
          }
        }
      ]
    },
    {
      "cell_type": "code",
      "metadata": {
        "colab": {
          "base_uri": "https://localhost:8080/",
          "height": 497
        },
        "id": "cJk3IH_GSrki",
        "outputId": "e8444fc4-2012-4d5d-82f2-8a7ae1b6c4bd"
      },
      "source": [
        "%%R\n",
        "#상자도표\n",
        "plot.new()\n",
        "data<-read.csv(\"birthdie.csv\",sep=\",\",header=TRUE)\n",
        "data\n",
        "boxplot(data$출생,data$사망,names=c('출생','사망'),col=c(\"pink\",\"darkgreen\"),\n",
        "main=\"서울2013-2014출생사망자 비교\")\n"
      ],
      "execution_count": null,
      "outputs": [
        {
          "output_type": "display_data",
          "data": {
            "image/png": "[encoded data removed]"
          },
          "metadata": {
            "tags": []
          }
        }
      ]
    },
    {
      "cell_type": "code",
      "metadata": {
        "colab": {
          "base_uri": "https://localhost:8080/",
          "height": 497
        },
        "id": "TKLDdz01Sp80",
        "outputId": "3887573a-52d1-4e37-9e11-1a398c66b51b"
      },
      "source": [
        "%%R\n",
        "#원형그래프\n",
        "x<-c(27,43,15)\n",
        "pie(x,radius=1, labels=c('한식', '일식', '중식'))"
      ],
      "execution_count": null,
      "outputs": [
        {
          "output_type": "display_data",
          "data": {
            "image/png": "[encoded data removed]"
          },
          "metadata": {
            "tags": []
          }
        }
      ]
    },
    {
      "cell_type": "markdown",
      "metadata": {
        "id": "9jjVMQxojthR"
      },
      "source": [
        "#ggplot"
      ]
    },
    {
      "cell_type": "code",
      "metadata": {
        "colab": {
          "base_uri": "https://localhost:8080/",
          "height": 497
        },
        "id": "ZIyEVdUSb9UD",
        "outputId": "84193795-36c1-4d9b-bd4a-45af2d6d3941"
      },
      "source": [
        "%%R\n",
        "#ggplot기본예제\n",
        "#install.packages(\"ggplot2\")\n",
        "#require(ggplot2)\n",
        "data1<-data.frame(mat=c(55,75,80,65,90,100,70,85),\n",
        "eng=c(65,100,45,50,75,90,90,65),\n",
        "avg=c(53,70,83,70,93,95,75,80),\n",
        "irum=c('김','이','박','최','문','윤','손','정'))\n",
        "ggplot(data1,aes(avg,mat))+geom_line(colour=\"red\")+geom_point(colour=\"yellow\")\n",
        "qplot(avg,mat,data=data1,geom=c(\"line\",\"point\"),color=\"red\")"
      ],
      "execution_count": null,
      "outputs": [
        {
          "output_type": "display_data",
          "data": {
            "image/png": "[encoded data removed]"
          },
          "metadata": {
            "tags": []
          }
        }
      ]
    },
    {
      "cell_type": "code",
      "metadata": {
        "colab": {
          "base_uri": "https://localhost:8080/",
          "height": 497
        },
        "id": "9FXqITFXj5DA",
        "outputId": "1a1942da-2082-4620-82e3-cac8a363a1b3"
      },
      "source": [
        "%%R\n",
        "#ggplot기본예제2\n",
        "datainfo<-read.csv(\"highwaybus09.csv\",sep=\",\",header=TRUE)\n",
        "ggplot(datainfo,aes(총운행횟수,이용율))+geom_point(aes(colour=선별,size=거리))"
      ],
      "execution_count": null,
      "outputs": [
        {
          "output_type": "display_data",
          "data": {
            "image/png": "[encoded data removed]"
          },
          "metadata": {
            "tags": []
          }
        }
      ]
    },
    {
      "cell_type": "code",
      "metadata": {
        "colab": {
          "base_uri": "https://localhost:8080/",
          "height": 497
        },
        "id": "l4oL7_guj46o",
        "outputId": "8ecdec8c-2955-44a5-c6cb-a071121ce5cf"
      },
      "source": [
        "%%R\n",
        "#ggplot 레이어 이해2\n",
        "ggplot(data1,aes(mat,avg))+geom_line(colour=\"red\")+geom_point()+\n",
        "geom_line(aes(eng,avg),color=\"darkgreen\")+geom_point(aes(eng,avg),color=\"pink\")"
      ],
      "execution_count": null,
      "outputs": [
        {
          "output_type": "display_data",
          "data": {
            "image/png": "[encoded data removed]"
          },
          "metadata": {
            "tags": []
          }
        }
      ]
    },
    {
      "cell_type": "code",
      "metadata": {
        "colab": {
          "base_uri": "https://localhost:8080/",
          "height": 497
        },
        "id": "jIjkuIP9j4vm",
        "outputId": "cb91ebb3-8c22-45e3-f907-029460e5b84d"
      },
      "source": [
        "%%R\n",
        "#ggplot 막대 예1\n",
        "datainfo<-read.csv(\"highwaybus09.csv\",sep=\",\",header=TRUE)\n",
        "ggplot(datainfo,aes(선별))+geom_bar(fill=\"orange\",color=\"green\")"
      ],
      "execution_count": null,
      "outputs": [
        {
          "output_type": "display_data",
          "data": {
            "image/png": "[encoded data removed]"
          },
          "metadata": {
            "tags": []
          }
        }
      ]
    },
    {
      "cell_type": "code",
      "metadata": {
        "colab": {
          "base_uri": "https://localhost:8080/",
          "height": 497
        },
        "id": "bv_xhTB1j4g6",
        "outputId": "d0f6d9ba-2d17-4329-a433-ba2f7ec59964"
      },
      "source": [
        "%%R\n",
        "#ggplot 막대 예2\n",
        "datainfo<-read.csv(\"highwaybus09.csv\",sep=\",\",header=TRUE)\n",
        "meandf<-as.data.frame(with(datainfo,tapply(이용율,선별,mean,na.rm=TRUE)))\n",
        "meandf$노선<-rownames(meandf)\n",
        "names(meandf)<-c(\"이용율\",\"노선\")\n",
        "meandf\n",
        "ggplot(meandf,aes(노선,이용율))+geom_bar(stat=\"identity\",aes(fill=노선))"
      ],
      "execution_count": null,
      "outputs": [
        {
          "output_type": "display_data",
          "data": {
            "image/png": "[encoded data removed]"
          },
          "metadata": {
            "tags": []
          }
        }
      ]
    },
    {
      "cell_type": "code",
      "metadata": {
        "colab": {
          "base_uri": "https://localhost:8080/",
          "height": 497
        },
        "id": "H13k86Nij4Xh",
        "outputId": "8b2ef7bc-e457-4538-a443-2792a5b1e67a"
      },
      "source": [
        "%%R\n",
        "#ggplot 막대 예3\n",
        "meandf1<-as.data.frame(with(datainfo,aggregate(이용율,list(선별=선별,차종=차종),mean,na.rm=TRUE)))\n",
        "meandf1$평균이용율<-rownames(meandf1)\n",
        "meandf1\n",
        "names(meandf1)<-c(\"선별\",\"차종\",\"평균이용율\")\n",
        "meandf1\n",
        "ggplot(meandf1,aes(선별,평균이용율))+geom_bar(stat=\"identity\",aes(fill=차종),\n",
        "position=\"dodge\")+geom_text(aes(y=평균이용율,label=평균이용율),color=\"black\",size=1.5)"
      ],
      "execution_count": null,
      "outputs": [
        {
          "output_type": "display_data",
          "data": {
            "image/png": "[encoded data removed]"
          },
          "metadata": {
            "tags": []
          }
        }
      ]
    },
    {
      "cell_type": "code",
      "metadata": {
        "id": "-hy12_ZboVsW"
      },
      "source": [
        ""
      ],
      "execution_count": null,
      "outputs": []
    }
  ]
}