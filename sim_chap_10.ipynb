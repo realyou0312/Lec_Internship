{
  "nbformat": 4,
  "nbformat_minor": 0,
  "metadata": {
    "kernelspec": {
      "display_name": "Python 3",
      "language": "python",
      "name": "python3"
    },
    "language_info": {
      "codemirror_mode": {
        "name": "ipython",
        "version": 3
      },
      "file_extension": ".py",
      "mimetype": "text/x-python",
      "name": "python",
      "nbconvert_exporter": "python",
      "pygments_lexer": "ipython3",
      "version": "3.5.4"
    },
    "colab": {
      "name": "sim_chap 10.ipynb",
      "provenance": [],
      "include_colab_link": true
    }
  },
  "cells": [
    {
      "cell_type": "markdown",
      "metadata": {
        "id": "view-in-github",
        "colab_type": "text"
      },
      "source": [
        "<a href=\"https://colab.research.google.com/github/realyou0312/Lec_Internship/blob/main/sim_chap_10.ipynb\" target=\"_parent\"><img src=\"https://colab.research.google.com/assets/colab-badge.svg\" alt=\"Open In Colab\"/></a>"
      ]
    },
    {
      "cell_type": "code",
      "metadata": {
        "id": "Qit-U4QtmYE7"
      },
      "source": [
        "# sim_chap_10\n",
        "\n",
        "# -*- coding:utf-8  -*-\n",
        "# 파이썬을 활용하여 자동으로 이메일 보내기\n",
        "\n",
        "import smtplib , email , os\n",
        "import openpyxl , sys\n",
        "from io import StringIO\n",
        "import time\n",
        "import random\n",
        "\n",
        "from email.header import Header\n",
        "from email.mime.multipart import MIMEMultipart\n",
        "from email.mime.text import MIMEText\n",
        "from email.mime.image import MIMEImage\n",
        "from email import encoders\n",
        "from email.mime.base import MIMEBase\n",
        "#import email.mime.application\n",
        "\n",
        "gid = input(\"G-Mail 로그인 계정을 입력하세요: \")\n",
        "gpw = input(\"G-Mail 로그인 비밀번호를 입력하세요: \")\n",
        "\n",
        "s_time = time.time( )"
      ],
      "execution_count": null,
      "outputs": []
    },
    {
      "cell_type": "code",
      "metadata": {
        "id": "AxIRvm8BmYFK"
      },
      "source": [
        "#file_name = input(\"메일에 첨부할 파일명: \")\n",
        "txt_files = \"c:\\\\temp\\\\mail_test\\\\stop_words.txt\"\n",
        "img_files = \"c:\\\\temp\\\\mail_test\\\\wordcloud.png\""
      ],
      "execution_count": null,
      "outputs": []
    },
    {
      "cell_type": "code",
      "metadata": {
        "id": "Zt2Qpj-qmYFL"
      },
      "source": [
        "# 엑셀 파일에서 목록 불러와서 자동으로 메일 보내기\n",
        "wb = openpyxl.load_workbook(\"c:\\\\temp\\\\email_list.xlsx\")\n",
        "sheet = wb[\"Sheet1\"]\n",
        "\n",
        "member = { }\n",
        "\n",
        "for i in range(2, sheet.max_row + 1) :\n",
        "    name = sheet.cell(row=i,column=1).value\n",
        "    email = sheet.cell(row=i,column=2).value\n",
        "    member[name]=email\n",
        "\n",
        "smtp_1 = smtplib.SMTP_SSL('smtp.gmail.com',465)\n",
        "smtp_1.ehlo( )\n",
        "smtp_1.login(gid,gpw)\n",
        "\n",
        "count = 0\n",
        "complete_list= [ ]\n",
        "fail_list = [ ]\n",
        "\n",
        "for name, email in member.items( ):\n",
        "\n",
        "    #보낼 메일 내용을 직접 입력하실 경우 아래 줄의 주석을 삭제하고 사용하세요\n",
        "    #msg=MIMEText(\"%s님께 \\n지난달 회비가 미납되었습니다\" %name)\n",
        "\n",
        "    #만약 보낼 내용을 특정 파일에서 읽어와서 사용할 경우는 아래와 같이 코딩하세요.\n",
        "    #기본값은 파일에서 메일 내용을 읽어와서 보내도록 되어 있습니다.\n",
        "    \n",
        "    with open(\"c:\\\\temp\\\\mail_test\\\\ment.txt\") as ment:\n",
        "        msgtxt = MIMEText(ment.read() %name)\n",
        "     \n",
        "    #txt첨부파일 등록\n",
        "    filename=txt_files\n",
        "    \n",
        "    # 퀴즈 1 : 첨부파일을 사용하기 위해 필요한 함수이름을 아래 (  )에 작성하세요\n",
        "    part = (           )('application', \"octet-stream\")\n",
        "    \n",
        "    # 위 정답 코드:\n",
        "    part = MIMEBase('application', \"octet-stream\")\n",
        "    \n",
        "    \n",
        "    part.set_payload(open(filename, \"rb\").read())\n",
        "    encoders.encode_base64(part)\n",
        "    part.add_header('Content-Disposition', \"attachment; filename= %s\" % os.path.basename(filename))\n",
        "    msg = MIMEMultipart()\n",
        "    msg.attach(part)\n",
        "\n",
        "    \n",
        "    #image 첨부파일 등록\n",
        "    filename2=img_files\n",
        "    part2 = MIMEBase('application', \"octet-stream\")\n",
        "    part2.set_payload(open(filename2, \"rb\").read())\n",
        "    encoders.encode_base64(part2)\n",
        "    part2.add_header('Content-Disposition', \"attachment; filename= %s\" % os.path.basename(filename2))\n",
        "\n",
        "    #메일 보낼 내용 설정 -텍스트 첨부파일과 이미지 첨부파일과 메시지 본문 설정과 헤드 설정\n",
        "    msg = MIMEMultipart()\n",
        "    \n",
        "    #퀴즈 2: 메일에 메일 내용과 첨부파일 추가하는 함수를 아래의 (    )안에 작성하세요\n",
        "    msg.(          )(part)\n",
        "    msg.(          )(part2)\n",
        "    msg.(          )(msgtxt)\n",
        "    \n",
        "    # 위 코드의 정답\n",
        "    msg.attach(part)\n",
        "    msg.attach(part2)\n",
        "    msg.attach(msgtxt)\n",
        "    \n",
        "    \n",
        "    msg[\"Subject\"] = Header(s=\"%s 님께 알려 드립니다.\"%name , charset=\"utf-8\")\n",
        "\n",
        "    now = time.localtime()\n",
        "    s = '%04d-%02d-%02d-%02d-%02d-%02d' % (now.tm_year, now.tm_mon, now.tm_mday, now.tm_hour, now.tm_min, now.tm_sec)\n",
        "    \n",
        "    sendmailStatus=smtp_1.sendmail('seojinsu@gmail.com',email,msg.as_string())\n",
        "    time.sleep(random.randrange(2,6))\n",
        "    \n",
        "    print(\"=\" *60)\n",
        "    print(\"%s 주소로 메일 발송 시간은 %s 입니다\" %(email,s))\n",
        "    print(\"%s 주소로 메일 발송완료------\"%email)\n",
        "\n",
        "    complete_list.append(email)\n",
        "    \n",
        "    count += 1\n",
        "    \n",
        "    if sendmailStatus != {}:\n",
        "        print(\"%s 주소 발송 오류: %s\" %(email,sendemailStatus))\n",
        "       "
      ],
      "execution_count": null,
      "outputs": []
    },
    {
      "cell_type": "code",
      "metadata": {
        "id": "_6AkVyETmYFM"
      },
      "source": [
        "e_time = time.time( )\n",
        "t_time = e_time - s_time\n",
        "\n",
        "#발송 완료 명단을 파일에 저장합니다.\n",
        "com_list = \"c:\\\\temp\\\\email_com_list.txt\"\n",
        "\n",
        "f = open(com_list, 'a',encoding='UTF-8')\n",
        "f.write(str(complete_list))\n",
        "f.close( )\n",
        "\n",
        "print(\"=\" *60)\n",
        "print(\"총 소요시간:  %s 초 입니다~\" %t_time)\n",
        "print(\"총 %s 건 발송 완료했습니다~!\" %count)\n",
        "print(\"발송 완료 명단은 %s 에 저장되어 있습니다\" %com_list)\n",
        "\n",
        "smtp_1.quit( )\n",
        "    "
      ],
      "execution_count": null,
      "outputs": []
    }
  ]
}